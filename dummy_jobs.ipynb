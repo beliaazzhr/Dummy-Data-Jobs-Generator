{
  "nbformat": 4,
  "nbformat_minor": 0,
  "metadata": {
    "colab": {
      "provenance": [],
      "include_colab_link": true
    },
    "kernelspec": {
      "name": "python3",
      "display_name": "Python 3"
    },
    "language_info": {
      "name": "python"
    }
  },
  "cells": [
    {
      "cell_type": "markdown",
      "metadata": {
        "id": "view-in-github",
        "colab_type": "text"
      },
      "source": [
        "<a href=\"https://colab.research.google.com/github/beliaazzhr/Dummy-Data-Jobs-Generator/blob/main/dummy_jobs.ipynb\" target=\"_parent\"><img src=\"https://colab.research.google.com/assets/colab-badge.svg\" alt=\"Open In Colab\"/></a>"
      ]
    },
    {
      "cell_type": "code",
      "execution_count": 23,
      "metadata": {
        "id": "S1JM8uUZxBuw"
      },
      "outputs": [],
      "source": [
        "import random\n",
        "import string\n",
        "from geopy.geocoders import Nominatim\n",
        "import csv\n",
        "import pandas as pd"
      ]
    },
    {
      "cell_type": "code",
      "source": [
        "def read_province(city):\n",
        "    \"\"\"\n",
        "    Convert cities and returns the province\n",
        "    \"\"\"\n",
        "    geolocator = Nominatim(user_agent=\"google\")\n",
        "    location = geolocator.geocode(city, language=\"en\")\n",
        "    province= location.address.split(', ')[1]\n",
        "    return province\n",
        "\n",
        "def read_country(city):\n",
        "    \"\"\"\n",
        "    Convert cities and returns the country\n",
        "    \"\"\"\n",
        "    geolocator = Nominatim(user_agent=\"google\")\n",
        "    location = geolocator.geocode(city, language=\"en\")\n",
        "    country= location.address.split(', ')[-1]\n",
        "    return country"
      ],
      "metadata": {
        "id": "VYNVdbE1_0Ok"
      },
      "execution_count": 2,
      "outputs": []
    },
    {
      "cell_type": "code",
      "source": [
        "#Daftar keywords untuk nama jobs\n",
        "jobs = [\n",
        "    \"Teacher\",\n",
        "    \"Teacher Assistant\",\n",
        "    \"Mathematics Tutor\",\n",
        "    \"Biology Tutor\",\n",
        "    \"English Tutor\",\n",
        "    \"Python Tutor\",\n",
        "    \"Programming Lecturer\", \n",
        "    \"Education Counselor\",\n",
        "    \"school counselor\",\n",
        "    \"Training\",\n",
        "    \"homeschooling teacher\",\n",
        "    \"Machine Learning Mentor\",\n",
        "    \"Elementary IT Teacher\",\n",
        "    \"Science Teacher\",\n",
        "    \"Pharmacy Lecturer\",\n",
        "    \"Doctor Professional Education Lecturer\",\n",
        "    \"Digital Business Lecturer\",\n",
        "    \"Psychology Lecturer\",\n",
        "    \"Data Science Tutor\",\n",
        "    \"Scratch Tutor (Coding, Remote, Indonesia)\",\n",
        "    \"Japanese and Mandarin Tutor\",\n",
        "    \"Instructor Trainee\",\n",
        "    \"International English Teacher\",\n",
        "    \"Tutor IELTS (Part-time)\",\n",
        "    \"Research Assistant - Chinese Speaker\",\n",
        "    \"Online Tutor: Roblox (Remote)\",\n",
        "    \"Tutor / Training ( Client Manager)\",\n",
        "    \"Private Tutor\",\n",
        "    \"Coding Teacher\",\n",
        "    \"Sports Teacher\",\n",
        "    \"Freelance Business English Tutor [Native Speaker]\",\n",
        "    \"English Teacher for Kids\",\n",
        "    \"Chemistry Teacher\",\n",
        "    \"Islamic Religion Teacher\",\n",
        "    \"Music Teacher\",\n",
        "    \"French tutor\",\n",
        "    \"Master Teacher Mathematics\",\n",
        "    \"Robotics Teacher/Tutor\",\n",
        "    \"Christian Religion Teacher\",\n",
        "    \"Freelance Japanese Tutor\",\n",
        "    \"Digital Marketing Tutor\",\n",
        "    \"Elementary Teacher\",\n",
        "    \"ICT Teacher\",\n",
        "    \"Art Teacher\",\n",
        "    \"Primary English Teacher\",\n",
        "    \"Preschool/Kindergarten Teacher\",\n",
        "    \"3D Tutor for CG Fundamentals\",\n",
        "    \"Visual Arts Teacher\",\n",
        "    \"Economics Teacher\",\n",
        "    \"Assistant Teacher\",\n",
        "    \"Physical Education Teacher\",\n",
        "    \"International School Private Teacher\",\n",
        "    \"Social Teacher\",\n",
        "    \"Vocal Teacher\",\n",
        "    \"Sociology Teacher\",\n",
        "    \"Mathematics Mentor\",\n",
        "    \"Business Studies & Accounting Teacher\",\n",
        "    \"Student Support Teacher\",\n",
        "    \"Music and Vocal Teacher\",\n",
        "    \"Homeroom Teacher\",\n",
        "    \"Physical Exercise Teacher\",\n",
        "    \"Tutor Baby Class\",\n",
        "    \"Cambridge Science Teacher\",\n",
        "    \"IT Teacher For Kids\",\n",
        "    \"History & geography Teacher\",\n",
        "    \"Master Teacher Social Studies\",\n",
        "    \"History Teacher\",\n",
        "    \"Korean Teacher\",\n",
        "    \"TIK / Computer Teacher\",\n",
        "    \"IT Teacher\",\n",
        "    \"Vocal Teacher\",\n",
        "    \"Chemistry Teacher\",\n",
        "    \"Primary Teacher\",\n",
        "    \"Part Time Tutor\",\n",
        "    \"Religion Teacher (Buddhist)\",\n",
        "    \"Islamic Religion Teacher\",\n",
        "]"
      ],
      "metadata": {
        "id": "dFqvi9Mbz3xv"
      },
      "execution_count": 3,
      "outputs": []
    },
    {
      "cell_type": "code",
      "source": [
        "cities = [\n",
        "  \"Jakarta\",\n",
        "  \"Surabaya\",\n",
        "  \"Medan\",\n",
        "  \"Malang\",\n",
        "  \"Bekasi\",\n",
        "  \"Depok\",\n",
        "  \"Tangerang\",\n",
        "  \"Denpasar\",\n",
        "  \"Sangereng\",\n",
        "  \"Semarang\",\n",
        "  \"Palembang\",\n",
        "  \"Makassar\",\n",
        "  \"Jepara\",\n",
        "  \"Sumedang\", \n",
        "  \"Cilacap\",\n",
        "  \"Bandar Lampung\",\n",
        "  \"Bogor\",\n",
        "  \"Bandung\",\n",
        "  \"Palembang\",\n",
        "  \"Makassar\",\n",
        "  \"Denpasar\"\n",
        "]"
      ],
      "metadata": {
        "id": "q-fi1vtVAd-c"
      },
      "execution_count": 4,
      "outputs": []
    },
    {
      "cell_type": "code",
      "source": [
        "# Daftar kata kunci untuk keterampilan\n",
        "skills = [\n",
        "    \"English\",\n",
        "    \"Communication\",\n",
        "    \"Problem Solving\",\n",
        "    \"Teaching\",\n",
        "    \"Team Work\",\n",
        "    \"Willing to Learn\",\n",
        "    \"Ambitious\",\n",
        "    \"Tutoring\",\n",
        "    \"Mentoring\",\n",
        "    \"Assisting\",\n",
        "    \"E-Learning\",\n",
        "    \"Adaptable\",\n",
        "    \"Exploration\",\n",
        "    \"Coaching\",\n",
        "    \"Disciplinaries\",\n",
        "    \"Training Plans\",\n",
        "    \"Curriculum Development\",\n",
        "    \"Lesson Planning\",\n",
        "    \"Zoom\",\n",
        "    \"Mandarin\"\n",
        "]"
      ],
      "metadata": {
        "id": "FiblOXoZxJbC"
      },
      "execution_count": 5,
      "outputs": []
    },
    {
      "cell_type": "code",
      "source": [
        "#List company name\n",
        "company = [\n",
        "    \"Sekolah Citra Kasih\",\n",
        "    \"LancarBahasa.ID\",\n",
        "    \"Guru.mu\",\n",
        "    \"Practicum USA\",\n",
        "    \"Kodland\",\n",
        "    \"Schoters\",\n",
        "    \"Lister Education Pte Ltd\",\n",
        "    \"PT Trakindo Utama\",\n",
        "    \"St. Johannes Berchmans\",\n",
        "    \"EF English First Batam\",\n",
        "    \"Kobi Education\",\n",
        "    \"CT ARSA FOUNDATION\",\n",
        "    \"BSI\",\n",
        "    \"Concentrix\",\n",
        "    \"The Ritz-Carlton Hotel Company, L.L.C.\",\n",
        "    \"CIE Central International Education\",\n",
        "    \"Lingua Course\",\n",
        "    \"SMARTZ.ID\",\n",
        "    \"Helpmate course\",\n",
        "    \"Kodingbean\",\n",
        "    \"Morphoo School\",\n",
        "    \"Digital Skola\",\n",
        "    \"BrightCHAMPS\",\n",
        "    \"The Champion School\",\n",
        "    \"LingoTalk\",\n",
        "    \"Cakap\",\n",
        "    \"Guardian Jobs\",\n",
        "    \"LightHouse Academy\",\n",
        "    \"One Third Consulting and Abroad\",\n",
        "    \"Educourse.id\",\n",
        "    \"Oxbridge International School\",\n",
        "    \"Rakids Learning Center\",\n",
        "    \"PT. Infinite Potensi\",\n",
        "    \"Brain Academy Center\",\n",
        "    \"Pt Inspirasi Mandiri Nusantara\",\n",
        "    \"Marriott\",\n",
        "    \"E-cube\",\n",
        "    \"Yayasan Citra Berkat\",\n",
        "    \"Widya Edutech\",\n",
        "    \"Sekolah Pelita Bangsa\",\n",
        "    \"SPK My Little Island School\",\n",
        "    \"Ruangguru\",\n",
        "    \"Newton Education Group\",\n",
        "    \"Global Jaya International School\",\n",
        "    \"The Gandhi Memorial Intercontinental School\",\n",
        "    \"Royal Prime Montessori Elementary and Junior School\",\n",
        "    \"Yayasan Elfa Sunna\",\n",
        "    \"Tsurayya Indonesia\",\n",
        "    \"PT. Koding Next Indonesia\"\n",
        "]"
      ],
      "metadata": {
        "id": "4t0AoGQQ5k3r"
      },
      "execution_count": 6,
      "outputs": []
    },
    {
      "cell_type": "code",
      "source": [
        "def generate_dummy_data(num_rows):\n",
        "    dummy_data = []\n",
        "    for _ in range(num_rows):\n",
        "        # Generate random values for each column\n",
        "        job_name = random.choice(jobs)\n",
        "        job_level = random.choice([\"Entry Level\", \"Intermediate\", \"Senior\"])\n",
        "        company_name = random.choice(company)\n",
        "        city = random.choice(cities)\n",
        "        area = read_province(city)\n",
        "        country = read_country(city)\n",
        "        job_skills = random.sample(skills, k=random.randint(1,4))\n",
        "\n",
        "        # Create a dictionary representing a row of data\n",
        "        row = {\n",
        "            'Job Name': job_name,\n",
        "            'Job Level': job_level,\n",
        "            'Company Name': company_name,\n",
        "            'City': city,\n",
        "            'Area': area,\n",
        "            'Country': country,\n",
        "            'Skills': job_skills\n",
        "        }\n",
        "        dummy_data.append(row)\n",
        "\n",
        "    return dummy_data"
      ],
      "metadata": {
        "id": "eVpMQSzmzx01"
      },
      "execution_count": 7,
      "outputs": []
    },
    {
      "cell_type": "code",
      "source": [
        "#Jumlah rows\n",
        "num_rows = 300\n",
        "dummy_data = generate_dummy_data(num_rows)\n",
        "\n",
        "# Cetak data dummy\n",
        "for row in dummy_data:\n",
        "  print(row)"
      ],
      "metadata": {
        "colab": {
          "base_uri": "https://localhost:8080/"
        },
        "id": "P0ZScIqAz0oV",
        "outputId": "111cc925-72b7-4c16-de5e-ca68f188aa73"
      },
      "execution_count": 8,
      "outputs": [
        {
          "output_type": "stream",
          "name": "stdout",
          "text": [
            "{'Job Name': 'Teacher Assistant', 'Job Level': 'Senior', 'Company Name': 'The Ritz-Carlton Hotel Company, L.L.C.', 'City': 'Denpasar', 'Area': 'Dangin Puri', 'Country': 'Indonesia', 'Skills': ['Assisting', 'Ambitious', 'Problem Solving', 'Teaching']}\n",
            "{'Job Name': 'Data Science Tutor', 'Job Level': 'Intermediate', 'Company Name': 'Digital Skola', 'City': 'Bekasi', 'Area': 'West Java', 'Country': 'Indonesia', 'Skills': ['Mandarin', 'Teaching', 'Tutoring']}\n",
            "{'Job Name': 'International English Teacher', 'Job Level': 'Entry Level', 'Company Name': 'Kodland', 'City': 'Cilacap', 'Area': 'Central Java', 'Country': 'Indonesia', 'Skills': ['Communication', 'Coaching', 'Mandarin', 'Training Plans']}\n",
            "{'Job Name': 'school counselor', 'Job Level': 'Entry Level', 'Company Name': 'PT. Koding Next Indonesia', 'City': 'Sangereng', 'Area': 'Panunggangan Barat', 'Country': 'Indonesia', 'Skills': ['Willing to Learn']}\n",
            "{'Job Name': 'French tutor', 'Job Level': 'Intermediate', 'Company Name': 'Rakids Learning Center', 'City': 'Tangerang', 'Area': 'Banten', 'Country': 'Indonesia', 'Skills': ['Lesson Planning', 'Mandarin', 'Teaching']}\n",
            "{'Job Name': 'International English Teacher', 'Job Level': 'Senior', 'Company Name': 'Yayasan Elfa Sunna', 'City': 'Depok', 'Area': 'Bogor', 'Country': 'Indonesia', 'Skills': ['Ambitious']}\n",
            "{'Job Name': 'Homeroom Teacher', 'Job Level': 'Intermediate', 'Company Name': 'E-cube', 'City': 'Jepara', 'Area': 'Central Java', 'Country': 'Indonesia', 'Skills': ['Zoom', 'Training Plans', 'Mandarin']}\n",
            "{'Job Name': 'Islamic Religion Teacher', 'Job Level': 'Entry Level', 'Company Name': 'Global Jaya International School', 'City': 'Depok', 'Area': 'Bogor', 'Country': 'Indonesia', 'Skills': ['Ambitious', 'Assisting']}\n",
            "{'Job Name': 'Private Tutor', 'Job Level': 'Intermediate', 'Company Name': 'One Third Consulting and Abroad', 'City': 'Palembang', 'Area': 'South Sumatra', 'Country': 'Indonesia', 'Skills': ['Zoom', 'Teaching']}\n",
            "{'Job Name': 'Primary English Teacher', 'Job Level': 'Senior', 'Company Name': 'Morphoo School', 'City': 'Semarang', 'Area': 'Central Java', 'Country': 'Indonesia', 'Skills': ['Curriculum Development', 'English']}\n",
            "{'Job Name': 'homeschooling teacher', 'Job Level': 'Intermediate', 'Company Name': 'PT. Infinite Potensi', 'City': 'Tangerang', 'Area': 'Banten', 'Country': 'Indonesia', 'Skills': ['Problem Solving', 'Assisting', 'Mentoring']}\n",
            "{'Job Name': 'Sociology Teacher', 'Job Level': 'Senior', 'Company Name': 'Global Jaya International School', 'City': 'Bandar Lampung', 'Area': 'Lampung', 'Country': 'Indonesia', 'Skills': ['Team Work', 'Adaptable', 'Training Plans']}\n",
            "{'Job Name': 'Tutor IELTS (Part-time)', 'Job Level': 'Intermediate', 'Company Name': 'The Gandhi Memorial Intercontinental School', 'City': 'Cilacap', 'Area': 'Central Java', 'Country': 'Indonesia', 'Skills': ['Disciplinaries', 'E-Learning', 'Curriculum Development', 'Exploration']}\n",
            "{'Job Name': 'homeschooling teacher', 'Job Level': 'Senior', 'Company Name': 'Practicum USA', 'City': 'Jakarta', 'Area': 'Java', 'Country': 'Indonesia', 'Skills': ['Adaptable', 'Tutoring', 'Teaching']}\n",
            "{'Job Name': 'Research Assistant - Chinese Speaker', 'Job Level': 'Intermediate', 'Company Name': 'EF English First Batam', 'City': 'Bogor', 'Area': 'West Java', 'Country': 'Indonesia', 'Skills': ['Lesson Planning', 'Ambitious']}\n",
            "{'Job Name': 'History & geography Teacher', 'Job Level': 'Intermediate', 'Company Name': 'Yayasan Elfa Sunna', 'City': 'Surabaya', 'Area': 'East Java', 'Country': 'Indonesia', 'Skills': ['Adaptable', 'English', 'Team Work', 'Exploration']}\n",
            "{'Job Name': 'Vocal Teacher', 'Job Level': 'Intermediate', 'Company Name': 'Sekolah Citra Kasih', 'City': 'Sumedang', 'Area': 'West Java', 'Country': 'Indonesia', 'Skills': ['English', 'Training Plans']}\n",
            "{'Job Name': 'Scratch Tutor (Coding, Remote, Indonesia)', 'Job Level': 'Intermediate', 'Company Name': 'Oxbridge International School', 'City': 'Bandung', 'Area': 'West Java', 'Country': 'Indonesia', 'Skills': ['Training Plans']}\n",
            "{'Job Name': 'Part Time Tutor', 'Job Level': 'Entry Level', 'Company Name': 'Practicum USA', 'City': 'Makassar', 'Area': 'South Sulawesi', 'Country': 'Indonesia', 'Skills': ['Lesson Planning', 'Exploration', 'Zoom']}\n",
            "{'Job Name': 'Japanese and Mandarin Tutor', 'Job Level': 'Entry Level', 'Company Name': 'PT. Koding Next Indonesia', 'City': 'Sumedang', 'Area': 'West Java', 'Country': 'Indonesia', 'Skills': ['Training Plans', 'Willing to Learn', 'Lesson Planning']}\n",
            "{'Job Name': 'Music and Vocal Teacher', 'Job Level': 'Entry Level', 'Company Name': 'St. Johannes Berchmans', 'City': 'Bandar Lampung', 'Area': 'Lampung', 'Country': 'Indonesia', 'Skills': ['Exploration']}\n",
            "{'Job Name': 'Sociology Teacher', 'Job Level': 'Entry Level', 'Company Name': 'St. Johannes Berchmans', 'City': 'Semarang', 'Area': 'Central Java', 'Country': 'Indonesia', 'Skills': ['Adaptable', 'Willing to Learn', 'Disciplinaries']}\n",
            "{'Job Name': 'Pharmacy Lecturer', 'Job Level': 'Intermediate', 'Company Name': 'LancarBahasa.ID', 'City': 'Bandung', 'Area': 'West Java', 'Country': 'Indonesia', 'Skills': ['Curriculum Development', 'Mentoring']}\n",
            "{'Job Name': 'Master Teacher Social Studies', 'Job Level': 'Entry Level', 'Company Name': 'Guardian Jobs', 'City': 'Palembang', 'Area': 'South Sumatra', 'Country': 'Indonesia', 'Skills': ['Adaptable', 'Zoom', 'Lesson Planning', 'Mentoring']}\n",
            "{'Job Name': 'Digital Marketing Tutor', 'Job Level': 'Intermediate', 'Company Name': 'EF English First Batam', 'City': 'Bandung', 'Area': 'West Java', 'Country': 'Indonesia', 'Skills': ['Team Work', 'Exploration', 'Training Plans']}\n",
            "{'Job Name': 'Christian Religion Teacher', 'Job Level': 'Intermediate', 'Company Name': 'Kodland', 'City': 'Cilacap', 'Area': 'Central Java', 'Country': 'Indonesia', 'Skills': ['Team Work', 'Tutoring', 'Disciplinaries']}\n",
            "{'Job Name': 'Elementary IT Teacher', 'Job Level': 'Senior', 'Company Name': 'Concentrix', 'City': 'Jepara', 'Area': 'Central Java', 'Country': 'Indonesia', 'Skills': ['Mentoring', 'English']}\n",
            "{'Job Name': 'Visual Arts Teacher', 'Job Level': 'Senior', 'Company Name': 'Marriott', 'City': 'Sumedang', 'Area': 'West Java', 'Country': 'Indonesia', 'Skills': ['Curriculum Development', 'Team Work', 'Training Plans']}\n",
            "{'Job Name': 'Chemistry Teacher', 'Job Level': 'Senior', 'Company Name': 'PT. Koding Next Indonesia', 'City': 'Bekasi', 'Area': 'West Java', 'Country': 'Indonesia', 'Skills': ['Team Work', 'Mentoring', 'Zoom', 'Adaptable']}\n",
            "{'Job Name': 'Physical Education Teacher', 'Job Level': 'Entry Level', 'Company Name': 'Helpmate course', 'City': 'Cilacap', 'Area': 'Central Java', 'Country': 'Indonesia', 'Skills': ['Zoom']}\n",
            "{'Job Name': 'Master Teacher Mathematics', 'Job Level': 'Entry Level', 'Company Name': 'LancarBahasa.ID', 'City': 'Makassar', 'Area': 'South Sulawesi', 'Country': 'Indonesia', 'Skills': ['Exploration', 'Teaching']}\n",
            "{'Job Name': 'International English Teacher', 'Job Level': 'Entry Level', 'Company Name': 'Kodingbean', 'City': 'Jakarta', 'Area': 'Java', 'Country': 'Indonesia', 'Skills': ['Mentoring', 'Tutoring']}\n",
            "{'Job Name': 'TIK / Computer Teacher', 'Job Level': 'Senior', 'Company Name': 'LancarBahasa.ID', 'City': 'Semarang', 'Area': 'Central Java', 'Country': 'Indonesia', 'Skills': ['Exploration', 'E-Learning', 'Training Plans', 'English']}\n",
            "{'Job Name': '3D Tutor for CG Fundamentals', 'Job Level': 'Senior', 'Company Name': 'Marriott', 'City': 'Bandung', 'Area': 'West Java', 'Country': 'Indonesia', 'Skills': ['Curriculum Development', 'Tutoring']}\n",
            "{'Job Name': 'Elementary IT Teacher', 'Job Level': 'Entry Level', 'Company Name': 'Sekolah Pelita Bangsa', 'City': 'Bogor', 'Area': 'West Java', 'Country': 'Indonesia', 'Skills': ['E-Learning']}\n",
            "{'Job Name': 'Pharmacy Lecturer', 'Job Level': 'Senior', 'Company Name': 'Widya Edutech', 'City': 'Sumedang', 'Area': 'West Java', 'Country': 'Indonesia', 'Skills': ['Problem Solving', 'Mentoring']}\n",
            "{'Job Name': 'Tutor Baby Class', 'Job Level': 'Entry Level', 'Company Name': 'SPK My Little Island School', 'City': 'Malang', 'Area': 'Kota Malang', 'Country': 'Indonesia', 'Skills': ['Exploration', 'Mentoring', 'English']}\n",
            "{'Job Name': 'Psychology Lecturer', 'Job Level': 'Senior', 'Company Name': 'LancarBahasa.ID', 'City': 'Cilacap', 'Area': 'Central Java', 'Country': 'Indonesia', 'Skills': ['Exploration', 'Training Plans', 'Ambitious', 'Curriculum Development']}\n",
            "{'Job Name': 'Python Tutor', 'Job Level': 'Senior', 'Company Name': 'Rakids Learning Center', 'City': 'Medan', 'Area': 'North Sumatra', 'Country': 'Indonesia', 'Skills': ['Tutoring', 'Exploration', 'E-Learning']}\n",
            "{'Job Name': 'Teacher Assistant', 'Job Level': 'Entry Level', 'Company Name': 'Lister Education Pte Ltd', 'City': 'Makassar', 'Area': 'South Sulawesi', 'Country': 'Indonesia', 'Skills': ['English']}\n",
            "{'Job Name': 'Science Teacher', 'Job Level': 'Senior', 'Company Name': 'Rakids Learning Center', 'City': 'Palembang', 'Area': 'South Sumatra', 'Country': 'Indonesia', 'Skills': ['Team Work', 'Coaching', 'Communication']}\n",
            "{'Job Name': 'Private Tutor', 'Job Level': 'Entry Level', 'Company Name': 'Yayasan Elfa Sunna', 'City': 'Malang', 'Area': 'Kota Malang', 'Country': 'Indonesia', 'Skills': ['Ambitious', 'English']}\n",
            "{'Job Name': 'Instructor Trainee', 'Job Level': 'Entry Level', 'Company Name': 'The Champion School', 'City': 'Makassar', 'Area': 'South Sulawesi', 'Country': 'Indonesia', 'Skills': ['Training Plans', 'Assisting']}\n",
            "{'Job Name': 'Physical Education Teacher', 'Job Level': 'Intermediate', 'Company Name': 'Lister Education Pte Ltd', 'City': 'Tangerang', 'Area': 'Banten', 'Country': 'Indonesia', 'Skills': ['Exploration']}\n",
            "{'Job Name': 'Primary English Teacher', 'Job Level': 'Intermediate', 'Company Name': 'Widya Edutech', 'City': 'Sumedang', 'Area': 'West Java', 'Country': 'Indonesia', 'Skills': ['Lesson Planning']}\n",
            "{'Job Name': 'Master Teacher Social Studies', 'Job Level': 'Senior', 'Company Name': 'PT. Koding Next Indonesia', 'City': 'Malang', 'Area': 'Kota Malang', 'Country': 'Indonesia', 'Skills': ['Mentoring', 'Mandarin', 'Coaching']}\n",
            "{'Job Name': 'Physical Exercise Teacher', 'Job Level': 'Entry Level', 'Company Name': 'Sekolah Pelita Bangsa', 'City': 'Sumedang', 'Area': 'West Java', 'Country': 'Indonesia', 'Skills': ['Team Work', 'Disciplinaries', 'Mentoring']}\n",
            "{'Job Name': 'Doctor Professional Education Lecturer', 'Job Level': 'Senior', 'Company Name': 'St. Johannes Berchmans', 'City': 'Makassar', 'Area': 'South Sulawesi', 'Country': 'Indonesia', 'Skills': ['Assisting', 'E-Learning', 'Mentoring']}\n",
            "{'Job Name': 'Biology Tutor', 'Job Level': 'Entry Level', 'Company Name': 'The Champion School', 'City': 'Tangerang', 'Area': 'Banten', 'Country': 'Indonesia', 'Skills': ['Team Work', 'E-Learning', 'Teaching', 'Mentoring']}\n",
            "{'Job Name': 'Freelance Business English Tutor [Native Speaker]', 'Job Level': 'Senior', 'Company Name': 'Newton Education Group', 'City': 'Cilacap', 'Area': 'Central Java', 'Country': 'Indonesia', 'Skills': ['Disciplinaries', 'Zoom']}\n",
            "{'Job Name': 'Business Studies & Accounting Teacher', 'Job Level': 'Entry Level', 'Company Name': 'PT Trakindo Utama', 'City': 'Denpasar', 'Area': 'Dangin Puri', 'Country': 'Indonesia', 'Skills': ['Assisting']}\n",
            "{'Job Name': 'Religion Teacher (Buddhist)', 'Job Level': 'Entry Level', 'Company Name': 'LingoTalk', 'City': 'Makassar', 'Area': 'South Sulawesi', 'Country': 'Indonesia', 'Skills': ['Willing to Learn', 'Adaptable']}\n",
            "{'Job Name': 'Chemistry Teacher', 'Job Level': 'Senior', 'Company Name': 'Tsurayya Indonesia', 'City': 'Denpasar', 'Area': 'Dangin Puri', 'Country': 'Indonesia', 'Skills': ['Mentoring', 'Problem Solving', 'Curriculum Development', 'Team Work']}\n",
            "{'Job Name': 'Science Teacher', 'Job Level': 'Senior', 'Company Name': 'BrightCHAMPS', 'City': 'Denpasar', 'Area': 'Dangin Puri', 'Country': 'Indonesia', 'Skills': ['English', 'Mentoring', 'Ambitious']}\n",
            "{'Job Name': 'Programming Lecturer', 'Job Level': 'Senior', 'Company Name': 'EF English First Batam', 'City': 'Sumedang', 'Area': 'West Java', 'Country': 'Indonesia', 'Skills': ['Training Plans', 'Mandarin']}\n",
            "{'Job Name': 'Sports Teacher', 'Job Level': 'Intermediate', 'Company Name': 'Lister Education Pte Ltd', 'City': 'Depok', 'Area': 'Bogor', 'Country': 'Indonesia', 'Skills': ['Disciplinaries', 'Coaching']}\n",
            "{'Job Name': 'Visual Arts Teacher', 'Job Level': 'Entry Level', 'Company Name': 'Sekolah Pelita Bangsa', 'City': 'Depok', 'Area': 'Bogor', 'Country': 'Indonesia', 'Skills': ['Mentoring', 'Exploration']}\n",
            "{'Job Name': 'Tutor IELTS (Part-time)', 'Job Level': 'Entry Level', 'Company Name': 'PT. Koding Next Indonesia', 'City': 'Depok', 'Area': 'Bogor', 'Country': 'Indonesia', 'Skills': ['Tutoring']}\n",
            "{'Job Name': 'Music and Vocal Teacher', 'Job Level': 'Entry Level', 'Company Name': 'Practicum USA', 'City': 'Malang', 'Area': 'Kota Malang', 'Country': 'Indonesia', 'Skills': ['Assisting', 'Training Plans']}\n",
            "{'Job Name': 'International School Private Teacher', 'Job Level': 'Intermediate', 'Company Name': 'LingoTalk', 'City': 'Surabaya', 'Area': 'East Java', 'Country': 'Indonesia', 'Skills': ['Willing to Learn']}\n",
            "{'Job Name': 'International School Private Teacher', 'Job Level': 'Senior', 'Company Name': 'LancarBahasa.ID', 'City': 'Jepara', 'Area': 'Central Java', 'Country': 'Indonesia', 'Skills': ['Training Plans', 'Communication']}\n",
            "{'Job Name': 'ICT Teacher', 'Job Level': 'Entry Level', 'Company Name': 'CIE Central International Education', 'City': 'Tangerang', 'Area': 'Banten', 'Country': 'Indonesia', 'Skills': ['E-Learning', 'Communication']}\n",
            "{'Job Name': 'Japanese and Mandarin Tutor', 'Job Level': 'Senior', 'Company Name': 'St. Johannes Berchmans', 'City': 'Jepara', 'Area': 'Central Java', 'Country': 'Indonesia', 'Skills': ['Mandarin', 'Ambitious', 'Curriculum Development', 'Exploration']}\n",
            "{'Job Name': 'Primary Teacher', 'Job Level': 'Senior', 'Company Name': 'PT. Koding Next Indonesia', 'City': 'Surabaya', 'Area': 'East Java', 'Country': 'Indonesia', 'Skills': ['Team Work', 'Lesson Planning']}\n",
            "{'Job Name': 'Science Teacher', 'Job Level': 'Intermediate', 'Company Name': 'Global Jaya International School', 'City': 'Surabaya', 'Area': 'East Java', 'Country': 'Indonesia', 'Skills': ['Willing to Learn']}\n",
            "{'Job Name': 'History Teacher', 'Job Level': 'Entry Level', 'Company Name': 'PT. Koding Next Indonesia', 'City': 'Surabaya', 'Area': 'East Java', 'Country': 'Indonesia', 'Skills': ['Disciplinaries', 'Training Plans', 'Tutoring']}\n",
            "{'Job Name': 'Art Teacher', 'Job Level': 'Senior', 'Company Name': 'One Third Consulting and Abroad', 'City': 'Bandung', 'Area': 'West Java', 'Country': 'Indonesia', 'Skills': ['Communication', 'Exploration', 'Problem Solving', 'Willing to Learn']}\n",
            "{'Job Name': 'Instructor Trainee', 'Job Level': 'Senior', 'Company Name': 'Kodingbean', 'City': 'Jakarta', 'Area': 'Java', 'Country': 'Indonesia', 'Skills': ['Curriculum Development', 'Assisting', 'Lesson Planning', 'E-Learning']}\n",
            "{'Job Name': 'Social Teacher', 'Job Level': 'Entry Level', 'Company Name': 'Schoters', 'City': 'Bandar Lampung', 'Area': 'Lampung', 'Country': 'Indonesia', 'Skills': ['Mandarin', 'English', 'Willing to Learn', 'Exploration']}\n",
            "{'Job Name': 'Robotics Teacher/Tutor', 'Job Level': 'Intermediate', 'Company Name': 'SMARTZ.ID', 'City': 'Bogor', 'Area': 'West Java', 'Country': 'Indonesia', 'Skills': ['Teaching', 'Team Work']}\n",
            "{'Job Name': 'International School Private Teacher', 'Job Level': 'Senior', 'Company Name': 'Concentrix', 'City': 'Bandar Lampung', 'Area': 'Lampung', 'Country': 'Indonesia', 'Skills': ['Exploration', 'Curriculum Development', 'Teaching', 'Problem Solving']}\n",
            "{'Job Name': 'IT Teacher', 'Job Level': 'Intermediate', 'Company Name': 'Guardian Jobs', 'City': 'Medan', 'Area': 'North Sumatra', 'Country': 'Indonesia', 'Skills': ['Communication']}\n",
            "{'Job Name': 'Science Teacher', 'Job Level': 'Senior', 'Company Name': 'Guardian Jobs', 'City': 'Makassar', 'Area': 'South Sulawesi', 'Country': 'Indonesia', 'Skills': ['E-Learning', 'Willing to Learn', 'Zoom']}\n",
            "{'Job Name': 'Cambridge Science Teacher', 'Job Level': 'Senior', 'Company Name': 'Schoters', 'City': 'Bekasi', 'Area': 'West Java', 'Country': 'Indonesia', 'Skills': ['Curriculum Development', 'Zoom', 'E-Learning', 'Exploration']}\n",
            "{'Job Name': 'Biology Tutor', 'Job Level': 'Intermediate', 'Company Name': 'Kodingbean', 'City': 'Sumedang', 'Area': 'West Java', 'Country': 'Indonesia', 'Skills': ['Mentoring', 'Zoom', 'Training Plans', 'Communication']}\n",
            "{'Job Name': 'Art Teacher', 'Job Level': 'Intermediate', 'Company Name': 'Lister Education Pte Ltd', 'City': 'Cilacap', 'Area': 'Central Java', 'Country': 'Indonesia', 'Skills': ['Assisting', 'Mentoring', 'Mandarin']}\n",
            "{'Job Name': 'Coding Teacher', 'Job Level': 'Senior', 'Company Name': 'E-cube', 'City': 'Palembang', 'Area': 'South Sumatra', 'Country': 'Indonesia', 'Skills': ['Lesson Planning', 'Communication', 'Zoom', 'Training Plans']}\n",
            "{'Job Name': 'Private Tutor', 'Job Level': 'Entry Level', 'Company Name': 'Helpmate course', 'City': 'Tangerang', 'Area': 'Banten', 'Country': 'Indonesia', 'Skills': ['Mandarin', 'Teaching', 'Problem Solving', 'Adaptable']}\n",
            "{'Job Name': 'Vocal Teacher', 'Job Level': 'Intermediate', 'Company Name': 'CIE Central International Education', 'City': 'Bandung', 'Area': 'West Java', 'Country': 'Indonesia', 'Skills': ['Curriculum Development', 'Teaching']}\n",
            "{'Job Name': 'TIK / Computer Teacher', 'Job Level': 'Intermediate', 'Company Name': 'CIE Central International Education', 'City': 'Medan', 'Area': 'North Sumatra', 'Country': 'Indonesia', 'Skills': ['Team Work', 'Mandarin', 'Communication', 'Mentoring']}\n",
            "{'Job Name': 'International School Private Teacher', 'Job Level': 'Entry Level', 'Company Name': 'Schoters', 'City': 'Depok', 'Area': 'Bogor', 'Country': 'Indonesia', 'Skills': ['Zoom']}\n",
            "{'Job Name': 'Japanese and Mandarin Tutor', 'Job Level': 'Entry Level', 'Company Name': 'Rakids Learning Center', 'City': 'Makassar', 'Area': 'South Sulawesi', 'Country': 'Indonesia', 'Skills': ['Ambitious', 'Communication', 'Problem Solving']}\n",
            "{'Job Name': 'Visual Arts Teacher', 'Job Level': 'Senior', 'Company Name': 'Digital Skola', 'City': 'Denpasar', 'Area': 'Dangin Puri', 'Country': 'Indonesia', 'Skills': ['Mentoring', 'Disciplinaries']}\n",
            "{'Job Name': 'Education Counselor', 'Job Level': 'Entry Level', 'Company Name': 'Marriott', 'City': 'Cilacap', 'Area': 'Central Java', 'Country': 'Indonesia', 'Skills': ['Ambitious', 'Zoom']}\n",
            "{'Job Name': 'Elementary IT Teacher', 'Job Level': 'Senior', 'Company Name': 'Practicum USA', 'City': 'Denpasar', 'Area': 'Dangin Puri', 'Country': 'Indonesia', 'Skills': ['Teaching', 'Tutoring']}\n",
            "{'Job Name': 'Physical Exercise Teacher', 'Job Level': 'Senior', 'Company Name': 'Rakids Learning Center', 'City': 'Bandung', 'Area': 'West Java', 'Country': 'Indonesia', 'Skills': ['Zoom', 'Teaching', 'Adaptable']}\n",
            "{'Job Name': 'Vocal Teacher', 'Job Level': 'Entry Level', 'Company Name': 'Oxbridge International School', 'City': 'Semarang', 'Area': 'Central Java', 'Country': 'Indonesia', 'Skills': ['Problem Solving']}\n",
            "{'Job Name': 'Training', 'Job Level': 'Intermediate', 'Company Name': 'BSI', 'City': 'Tangerang', 'Area': 'Banten', 'Country': 'Indonesia', 'Skills': ['Tutoring', 'Problem Solving', 'Training Plans']}\n",
            "{'Job Name': 'Primary English Teacher', 'Job Level': 'Senior', 'Company Name': 'Global Jaya International School', 'City': 'Makassar', 'Area': 'South Sulawesi', 'Country': 'Indonesia', 'Skills': ['Zoom', 'Disciplinaries', 'Coaching']}\n",
            "{'Job Name': 'Assistant Teacher', 'Job Level': 'Intermediate', 'Company Name': 'Lister Education Pte Ltd', 'City': 'Palembang', 'Area': 'South Sumatra', 'Country': 'Indonesia', 'Skills': ['Problem Solving', 'Willing to Learn', 'Coaching']}\n",
            "{'Job Name': 'Cambridge Science Teacher', 'Job Level': 'Entry Level', 'Company Name': 'Cakap', 'City': 'Makassar', 'Area': 'South Sulawesi', 'Country': 'Indonesia', 'Skills': ['Communication', 'Exploration', 'Coaching']}\n",
            "{'Job Name': 'Mathematics Tutor', 'Job Level': 'Entry Level', 'Company Name': 'Schoters', 'City': 'Denpasar', 'Area': 'Dangin Puri', 'Country': 'Indonesia', 'Skills': ['Team Work', 'Mentoring']}\n",
            "{'Job Name': 'IT Teacher', 'Job Level': 'Senior', 'Company Name': 'St. Johannes Berchmans', 'City': 'Palembang', 'Area': 'South Sumatra', 'Country': 'Indonesia', 'Skills': ['Tutoring']}\n",
            "{'Job Name': 'Mathematics Tutor', 'Job Level': 'Intermediate', 'Company Name': 'LightHouse Academy', 'City': 'Semarang', 'Area': 'Central Java', 'Country': 'Indonesia', 'Skills': ['Mandarin']}\n",
            "{'Job Name': 'Doctor Professional Education Lecturer', 'Job Level': 'Intermediate', 'Company Name': 'Brain Academy Center', 'City': 'Surabaya', 'Area': 'East Java', 'Country': 'Indonesia', 'Skills': ['Mandarin']}\n",
            "{'Job Name': 'Master Teacher Social Studies', 'Job Level': 'Intermediate', 'Company Name': 'SPK My Little Island School', 'City': 'Surabaya', 'Area': 'East Java', 'Country': 'Indonesia', 'Skills': ['Mandarin', 'Communication', 'Coaching']}\n",
            "{'Job Name': '3D Tutor for CG Fundamentals', 'Job Level': 'Entry Level', 'Company Name': 'PT. Infinite Potensi', 'City': 'Makassar', 'Area': 'South Sulawesi', 'Country': 'Indonesia', 'Skills': ['English']}\n",
            "{'Job Name': 'Freelance Business English Tutor [Native Speaker]', 'Job Level': 'Senior', 'Company Name': 'LancarBahasa.ID', 'City': 'Sumedang', 'Area': 'West Java', 'Country': 'Indonesia', 'Skills': ['Mentoring', 'English', 'Training Plans']}\n",
            "{'Job Name': 'History & geography Teacher', 'Job Level': 'Intermediate', 'Company Name': 'SMARTZ.ID', 'City': 'Medan', 'Area': 'North Sumatra', 'Country': 'Indonesia', 'Skills': ['Team Work', 'E-Learning', 'Adaptable', 'Lesson Planning']}\n",
            "{'Job Name': 'Vocal Teacher', 'Job Level': 'Senior', 'Company Name': 'Helpmate course', 'City': 'Palembang', 'Area': 'South Sumatra', 'Country': 'Indonesia', 'Skills': ['Problem Solving', 'Willing to Learn', 'Curriculum Development']}\n",
            "{'Job Name': 'Physical Exercise Teacher', 'Job Level': 'Intermediate', 'Company Name': 'Helpmate course', 'City': 'Makassar', 'Area': 'South Sulawesi', 'Country': 'Indonesia', 'Skills': ['Adaptable', 'Willing to Learn']}\n",
            "{'Job Name': 'IT Teacher For Kids', 'Job Level': 'Entry Level', 'Company Name': 'EF English First Batam', 'City': 'Tangerang', 'Area': 'Banten', 'Country': 'Indonesia', 'Skills': ['Ambitious', 'Disciplinaries', 'Exploration']}\n",
            "{'Job Name': 'Music Teacher', 'Job Level': 'Intermediate', 'Company Name': 'Digital Skola', 'City': 'Bandar Lampung', 'Area': 'Lampung', 'Country': 'Indonesia', 'Skills': ['Ambitious', 'E-Learning']}\n",
            "{'Job Name': 'Freelance Japanese Tutor', 'Job Level': 'Senior', 'Company Name': 'Newton Education Group', 'City': 'Jakarta', 'Area': 'Java', 'Country': 'Indonesia', 'Skills': ['Willing to Learn', 'Ambitious', 'Curriculum Development', 'Communication']}\n",
            "{'Job Name': 'Training', 'Job Level': 'Senior', 'Company Name': 'E-cube', 'City': 'Sumedang', 'Area': 'West Java', 'Country': 'Indonesia', 'Skills': ['Assisting', 'Tutoring']}\n",
            "{'Job Name': 'Music Teacher', 'Job Level': 'Senior', 'Company Name': 'Sekolah Pelita Bangsa', 'City': 'Denpasar', 'Area': 'Dangin Puri', 'Country': 'Indonesia', 'Skills': ['Mentoring', 'Lesson Planning', 'Team Work']}\n",
            "{'Job Name': 'Freelance Business English Tutor [Native Speaker]', 'Job Level': 'Entry Level', 'Company Name': 'Sekolah Pelita Bangsa', 'City': 'Jakarta', 'Area': 'Java', 'Country': 'Indonesia', 'Skills': ['Communication', 'Teaching', 'English', 'Ambitious']}\n",
            "{'Job Name': 'Homeroom Teacher', 'Job Level': 'Entry Level', 'Company Name': 'Yayasan Citra Berkat', 'City': 'Bogor', 'Area': 'West Java', 'Country': 'Indonesia', 'Skills': ['Willing to Learn']}\n",
            "{'Job Name': 'Research Assistant - Chinese Speaker', 'Job Level': 'Entry Level', 'Company Name': 'CIE Central International Education', 'City': 'Depok', 'Area': 'Bogor', 'Country': 'Indonesia', 'Skills': ['Communication']}\n",
            "{'Job Name': 'Digital Business Lecturer', 'Job Level': 'Intermediate', 'Company Name': 'Helpmate course', 'City': 'Bogor', 'Area': 'West Java', 'Country': 'Indonesia', 'Skills': ['Curriculum Development', 'Training Plans']}\n",
            "{'Job Name': 'IT Teacher For Kids', 'Job Level': 'Intermediate', 'Company Name': 'LightHouse Academy', 'City': 'Denpasar', 'Area': 'Dangin Puri', 'Country': 'Indonesia', 'Skills': ['Willing to Learn', 'Exploration', 'Disciplinaries']}\n",
            "{'Job Name': 'Tutor Baby Class', 'Job Level': 'Entry Level', 'Company Name': 'PT. Koding Next Indonesia', 'City': 'Palembang', 'Area': 'South Sumatra', 'Country': 'Indonesia', 'Skills': ['E-Learning', 'Coaching', 'Lesson Planning', 'Zoom']}\n",
            "{'Job Name': 'Digital Marketing Tutor', 'Job Level': 'Intermediate', 'Company Name': 'Schoters', 'City': 'Jepara', 'Area': 'Central Java', 'Country': 'Indonesia', 'Skills': ['Communication', 'English', 'Willing to Learn', 'Assisting']}\n",
            "{'Job Name': 'Visual Arts Teacher', 'Job Level': 'Senior', 'Company Name': 'Sekolah Citra Kasih', 'City': 'Jepara', 'Area': 'Central Java', 'Country': 'Indonesia', 'Skills': ['Coaching', 'Adaptable', 'English', 'Assisting']}\n",
            "{'Job Name': 'ICT Teacher', 'Job Level': 'Senior', 'Company Name': 'PT. Infinite Potensi', 'City': 'Bandung', 'Area': 'West Java', 'Country': 'Indonesia', 'Skills': ['Tutoring', 'Communication', 'Disciplinaries', 'Mandarin']}\n",
            "{'Job Name': 'Tutor Baby Class', 'Job Level': 'Senior', 'Company Name': 'Sekolah Citra Kasih', 'City': 'Bandung', 'Area': 'West Java', 'Country': 'Indonesia', 'Skills': ['Ambitious', 'Team Work', 'English']}\n",
            "{'Job Name': 'Chemistry Teacher', 'Job Level': 'Entry Level', 'Company Name': 'EF English First Batam', 'City': 'Palembang', 'Area': 'South Sumatra', 'Country': 'Indonesia', 'Skills': ['Tutoring']}\n",
            "{'Job Name': 'ICT Teacher', 'Job Level': 'Entry Level', 'Company Name': 'Yayasan Elfa Sunna', 'City': 'Surabaya', 'Area': 'East Java', 'Country': 'Indonesia', 'Skills': ['Mandarin', 'Training Plans', 'Curriculum Development']}\n",
            "{'Job Name': 'Elementary Teacher', 'Job Level': 'Intermediate', 'Company Name': 'Educourse.id', 'City': 'Makassar', 'Area': 'South Sulawesi', 'Country': 'Indonesia', 'Skills': ['Lesson Planning']}\n",
            "{'Job Name': 'Psychology Lecturer', 'Job Level': 'Intermediate', 'Company Name': 'The Gandhi Memorial Intercontinental School', 'City': 'Denpasar', 'Area': 'Dangin Puri', 'Country': 'Indonesia', 'Skills': ['Lesson Planning', 'Communication', 'Tutoring', 'Problem Solving']}\n",
            "{'Job Name': 'Mathematics Mentor', 'Job Level': 'Senior', 'Company Name': 'The Ritz-Carlton Hotel Company, L.L.C.', 'City': 'Sangereng', 'Area': 'Panunggangan Barat', 'Country': 'Indonesia', 'Skills': ['Lesson Planning', 'English', 'Willing to Learn', 'Curriculum Development']}\n",
            "{'Job Name': 'Elementary IT Teacher', 'Job Level': 'Senior', 'Company Name': 'LightHouse Academy', 'City': 'Bekasi', 'Area': 'West Java', 'Country': 'Indonesia', 'Skills': ['Communication']}\n",
            "{'Job Name': 'Digital Marketing Tutor', 'Job Level': 'Intermediate', 'Company Name': 'St. Johannes Berchmans', 'City': 'Tangerang', 'Area': 'Banten', 'Country': 'Indonesia', 'Skills': ['English', 'Team Work']}\n",
            "{'Job Name': 'Digital Business Lecturer', 'Job Level': 'Entry Level', 'Company Name': 'Helpmate course', 'City': 'Surabaya', 'Area': 'East Java', 'Country': 'Indonesia', 'Skills': ['E-Learning', 'Adaptable']}\n",
            "{'Job Name': 'Robotics Teacher/Tutor', 'Job Level': 'Entry Level', 'Company Name': 'Yayasan Citra Berkat', 'City': 'Semarang', 'Area': 'Central Java', 'Country': 'Indonesia', 'Skills': ['Team Work', 'Adaptable', 'Tutoring', 'Communication']}\n",
            "{'Job Name': 'Robotics Teacher/Tutor', 'Job Level': 'Senior', 'Company Name': 'Newton Education Group', 'City': 'Makassar', 'Area': 'South Sulawesi', 'Country': 'Indonesia', 'Skills': ['English', 'Mandarin', 'Exploration']}\n",
            "{'Job Name': 'Mathematics Tutor', 'Job Level': 'Senior', 'Company Name': 'Kodingbean', 'City': 'Tangerang', 'Area': 'Banten', 'Country': 'Indonesia', 'Skills': ['Mandarin', 'Assisting']}\n",
            "{'Job Name': 'Business Studies & Accounting Teacher', 'Job Level': 'Intermediate', 'Company Name': 'Kodingbean', 'City': 'Bogor', 'Area': 'West Java', 'Country': 'Indonesia', 'Skills': ['Teaching']}\n",
            "{'Job Name': 'Data Science Tutor', 'Job Level': 'Senior', 'Company Name': 'One Third Consulting and Abroad', 'City': 'Semarang', 'Area': 'Central Java', 'Country': 'Indonesia', 'Skills': ['Zoom', 'Training Plans', 'Ambitious']}\n",
            "{'Job Name': 'Elementary IT Teacher', 'Job Level': 'Senior', 'Company Name': 'Royal Prime Montessori Elementary and Junior School', 'City': 'Depok', 'Area': 'Bogor', 'Country': 'Indonesia', 'Skills': ['Training Plans']}\n",
            "{'Job Name': 'Islamic Religion Teacher', 'Job Level': 'Intermediate', 'Company Name': 'Oxbridge International School', 'City': 'Surabaya', 'Area': 'East Java', 'Country': 'Indonesia', 'Skills': ['Lesson Planning', 'Coaching', 'E-Learning', 'Tutoring']}\n",
            "{'Job Name': 'International English Teacher', 'Job Level': 'Intermediate', 'Company Name': 'PT. Infinite Potensi', 'City': 'Semarang', 'Area': 'Central Java', 'Country': 'Indonesia', 'Skills': ['Problem Solving', 'Communication', 'Teaching']}\n",
            "{'Job Name': 'Pharmacy Lecturer', 'Job Level': 'Senior', 'Company Name': 'Newton Education Group', 'City': 'Cilacap', 'Area': 'Central Java', 'Country': 'Indonesia', 'Skills': ['Team Work']}\n",
            "{'Job Name': 'Social Teacher', 'Job Level': 'Entry Level', 'Company Name': 'Guru.mu', 'City': 'Bekasi', 'Area': 'West Java', 'Country': 'Indonesia', 'Skills': ['Training Plans']}\n",
            "{'Job Name': 'Freelance Business English Tutor [Native Speaker]', 'Job Level': 'Intermediate', 'Company Name': 'LightHouse Academy', 'City': 'Bandar Lampung', 'Area': 'Lampung', 'Country': 'Indonesia', 'Skills': ['Teaching', 'Mentoring', 'Willing to Learn', 'Curriculum Development']}\n",
            "{'Job Name': 'Teacher Assistant', 'Job Level': 'Intermediate', 'Company Name': 'Sekolah Pelita Bangsa', 'City': 'Depok', 'Area': 'Bogor', 'Country': 'Indonesia', 'Skills': ['Zoom', 'Problem Solving']}\n",
            "{'Job Name': 'Research Assistant - Chinese Speaker', 'Job Level': 'Entry Level', 'Company Name': 'Kodland', 'City': 'Bandung', 'Area': 'West Java', 'Country': 'Indonesia', 'Skills': ['Assisting', 'Curriculum Development', 'Zoom', 'English']}\n",
            "{'Job Name': 'Korean Teacher', 'Job Level': 'Intermediate', 'Company Name': 'Cakap', 'City': 'Jepara', 'Area': 'Central Java', 'Country': 'Indonesia', 'Skills': ['Team Work', 'Lesson Planning', 'Curriculum Development', 'Ambitious']}\n",
            "{'Job Name': 'Master Teacher Social Studies', 'Job Level': 'Entry Level', 'Company Name': 'Morphoo School', 'City': 'Palembang', 'Area': 'South Sumatra', 'Country': 'Indonesia', 'Skills': ['Mentoring', 'Zoom', 'Exploration', 'English']}\n",
            "{'Job Name': 'Digital Marketing Tutor', 'Job Level': 'Senior', 'Company Name': 'CIE Central International Education', 'City': 'Sumedang', 'Area': 'West Java', 'Country': 'Indonesia', 'Skills': ['Ambitious', 'Assisting', 'Lesson Planning', 'E-Learning']}\n",
            "{'Job Name': 'Mathematics Mentor', 'Job Level': 'Entry Level', 'Company Name': 'LingoTalk', 'City': 'Palembang', 'Area': 'South Sumatra', 'Country': 'Indonesia', 'Skills': ['Exploration']}\n",
            "{'Job Name': 'Preschool/Kindergarten Teacher', 'Job Level': 'Intermediate', 'Company Name': 'Digital Skola', 'City': 'Depok', 'Area': 'Bogor', 'Country': 'Indonesia', 'Skills': ['Ambitious', 'Mentoring']}\n",
            "{'Job Name': 'Primary English Teacher', 'Job Level': 'Entry Level', 'Company Name': 'SPK My Little Island School', 'City': 'Malang', 'Area': 'Kota Malang', 'Country': 'Indonesia', 'Skills': ['Team Work']}\n",
            "{'Job Name': 'Chemistry Teacher', 'Job Level': 'Senior', 'Company Name': 'Lister Education Pte Ltd', 'City': 'Jakarta', 'Area': 'Java', 'Country': 'Indonesia', 'Skills': ['Teaching', 'Problem Solving', 'Tutoring', 'Assisting']}\n",
            "{'Job Name': 'Sociology Teacher', 'Job Level': 'Senior', 'Company Name': 'Educourse.id', 'City': 'Bekasi', 'Area': 'West Java', 'Country': 'Indonesia', 'Skills': ['Assisting', 'Mandarin', 'Curriculum Development', 'Teaching']}\n",
            "{'Job Name': 'Economics Teacher', 'Job Level': 'Entry Level', 'Company Name': 'Sekolah Citra Kasih', 'City': 'Sangereng', 'Area': 'Panunggangan Barat', 'Country': 'Indonesia', 'Skills': ['Assisting', 'Exploration', 'Communication', 'Mentoring']}\n",
            "{'Job Name': '3D Tutor for CG Fundamentals', 'Job Level': 'Entry Level', 'Company Name': 'Tsurayya Indonesia', 'City': 'Bandung', 'Area': 'West Java', 'Country': 'Indonesia', 'Skills': ['Willing to Learn']}\n",
            "{'Job Name': 'Teacher', 'Job Level': 'Entry Level', 'Company Name': 'Guru.mu', 'City': 'Sumedang', 'Area': 'West Java', 'Country': 'Indonesia', 'Skills': ['English']}\n",
            "{'Job Name': 'Machine Learning Mentor', 'Job Level': 'Senior', 'Company Name': 'E-cube', 'City': 'Bandung', 'Area': 'West Java', 'Country': 'Indonesia', 'Skills': ['Coaching', 'Team Work', 'Disciplinaries', 'Willing to Learn']}\n",
            "{'Job Name': 'Islamic Religion Teacher', 'Job Level': 'Intermediate', 'Company Name': 'Newton Education Group', 'City': 'Palembang', 'Area': 'South Sumatra', 'Country': 'Indonesia', 'Skills': ['Tutoring', 'Coaching', 'Team Work', 'Lesson Planning']}\n",
            "{'Job Name': 'Coding Teacher', 'Job Level': 'Senior', 'Company Name': 'Kodingbean', 'City': 'Bekasi', 'Area': 'West Java', 'Country': 'Indonesia', 'Skills': ['Problem Solving']}\n",
            "{'Job Name': 'TIK / Computer Teacher', 'Job Level': 'Intermediate', 'Company Name': 'E-cube', 'City': 'Sumedang', 'Area': 'West Java', 'Country': 'Indonesia', 'Skills': ['Communication']}\n",
            "{'Job Name': 'Business Studies & Accounting Teacher', 'Job Level': 'Senior', 'Company Name': 'PT Trakindo Utama', 'City': 'Denpasar', 'Area': 'Dangin Puri', 'Country': 'Indonesia', 'Skills': ['Mandarin', 'Training Plans']}\n",
            "{'Job Name': 'Sociology Teacher', 'Job Level': 'Entry Level', 'Company Name': 'Digital Skola', 'City': 'Semarang', 'Area': 'Central Java', 'Country': 'Indonesia', 'Skills': ['Communication']}\n",
            "{'Job Name': 'Chemistry Teacher', 'Job Level': 'Entry Level', 'Company Name': 'Digital Skola', 'City': 'Palembang', 'Area': 'South Sumatra', 'Country': 'Indonesia', 'Skills': ['Ambitious', 'Mandarin', 'Tutoring']}\n",
            "{'Job Name': 'IT Teacher For Kids', 'Job Level': 'Senior', 'Company Name': 'The Gandhi Memorial Intercontinental School', 'City': 'Cilacap', 'Area': 'Central Java', 'Country': 'Indonesia', 'Skills': ['Mandarin', 'Ambitious', 'Communication']}\n",
            "{'Job Name': 'Science Teacher', 'Job Level': 'Entry Level', 'Company Name': 'Marriott', 'City': 'Palembang', 'Area': 'South Sumatra', 'Country': 'Indonesia', 'Skills': ['Coaching', 'Mandarin', 'Training Plans', 'Zoom']}\n",
            "{'Job Name': 'English Teacher for Kids', 'Job Level': 'Entry Level', 'Company Name': 'Kobi Education', 'City': 'Makassar', 'Area': 'South Sulawesi', 'Country': 'Indonesia', 'Skills': ['Curriculum Development']}\n",
            "{'Job Name': 'Korean Teacher', 'Job Level': 'Senior', 'Company Name': 'Concentrix', 'City': 'Tangerang', 'Area': 'Banten', 'Country': 'Indonesia', 'Skills': ['Training Plans', 'Curriculum Development', 'Coaching']}\n",
            "{'Job Name': 'Tutor IELTS (Part-time)', 'Job Level': 'Intermediate', 'Company Name': 'Kodingbean', 'City': 'Surabaya', 'Area': 'East Java', 'Country': 'Indonesia', 'Skills': ['Training Plans', 'Ambitious', 'Coaching', 'Team Work']}\n",
            "{'Job Name': 'school counselor', 'Job Level': 'Entry Level', 'Company Name': 'PT. Infinite Potensi', 'City': 'Sangereng', 'Area': 'Panunggangan Barat', 'Country': 'Indonesia', 'Skills': ['Curriculum Development', 'Tutoring', 'Mandarin']}\n",
            "{'Job Name': 'Economics Teacher', 'Job Level': 'Senior', 'Company Name': 'Rakids Learning Center', 'City': 'Bogor', 'Area': 'West Java', 'Country': 'Indonesia', 'Skills': ['Tutoring', 'Communication', 'Exploration', 'Lesson Planning']}\n",
            "{'Job Name': 'Science Teacher', 'Job Level': 'Entry Level', 'Company Name': 'PT. Infinite Potensi', 'City': 'Makassar', 'Area': 'South Sulawesi', 'Country': 'Indonesia', 'Skills': ['Curriculum Development', 'Mentoring', 'Tutoring']}\n",
            "{'Job Name': 'Biology Tutor', 'Job Level': 'Entry Level', 'Company Name': 'EF English First Batam', 'City': 'Sangereng', 'Area': 'Panunggangan Barat', 'Country': 'Indonesia', 'Skills': ['Zoom', 'Team Work', 'Lesson Planning', 'Communication']}\n",
            "{'Job Name': 'Private Tutor', 'Job Level': 'Senior', 'Company Name': 'Lister Education Pte Ltd', 'City': 'Jakarta', 'Area': 'Java', 'Country': 'Indonesia', 'Skills': ['Ambitious', 'Communication']}\n",
            "{'Job Name': 'Islamic Religion Teacher', 'Job Level': 'Intermediate', 'Company Name': 'PT. Infinite Potensi', 'City': 'Jepara', 'Area': 'Central Java', 'Country': 'Indonesia', 'Skills': ['Teaching', 'Adaptable']}\n",
            "{'Job Name': 'Digital Business Lecturer', 'Job Level': 'Entry Level', 'Company Name': 'Widya Edutech', 'City': 'Semarang', 'Area': 'Central Java', 'Country': 'Indonesia', 'Skills': ['Problem Solving', 'Communication']}\n",
            "{'Job Name': 'Art Teacher', 'Job Level': 'Entry Level', 'Company Name': 'Concentrix', 'City': 'Malang', 'Area': 'Kota Malang', 'Country': 'Indonesia', 'Skills': ['Mentoring', 'Coaching']}\n",
            "{'Job Name': 'Elementary Teacher', 'Job Level': 'Intermediate', 'Company Name': 'Oxbridge International School', 'City': 'Denpasar', 'Area': 'Dangin Puri', 'Country': 'Indonesia', 'Skills': ['Tutoring', 'Zoom']}\n",
            "{'Job Name': 'Japanese and Mandarin Tutor', 'Job Level': 'Intermediate', 'Company Name': 'EF English First Batam', 'City': 'Malang', 'Area': 'Kota Malang', 'Country': 'Indonesia', 'Skills': ['Exploration', 'Zoom', 'Assisting']}\n",
            "{'Job Name': 'Master Teacher Social Studies', 'Job Level': 'Intermediate', 'Company Name': 'Rakids Learning Center', 'City': 'Palembang', 'Area': 'South Sumatra', 'Country': 'Indonesia', 'Skills': ['Lesson Planning']}\n",
            "{'Job Name': 'IT Teacher For Kids', 'Job Level': 'Intermediate', 'Company Name': 'Newton Education Group', 'City': 'Denpasar', 'Area': 'Dangin Puri', 'Country': 'Indonesia', 'Skills': ['English']}\n",
            "{'Job Name': 'Programming Lecturer', 'Job Level': 'Entry Level', 'Company Name': 'Practicum USA', 'City': 'Sangereng', 'Area': 'Panunggangan Barat', 'Country': 'Indonesia', 'Skills': ['Adaptable', 'Coaching', 'Curriculum Development', 'Zoom']}\n",
            "{'Job Name': 'Master Teacher Social Studies', 'Job Level': 'Senior', 'Company Name': 'Guardian Jobs', 'City': 'Bandar Lampung', 'Area': 'Lampung', 'Country': 'Indonesia', 'Skills': ['Tutoring']}\n",
            "{'Job Name': 'Teacher', 'Job Level': 'Entry Level', 'Company Name': 'Sekolah Pelita Bangsa', 'City': 'Palembang', 'Area': 'South Sumatra', 'Country': 'Indonesia', 'Skills': ['Ambitious', 'English', 'Teaching']}\n",
            "{'Job Name': 'Scratch Tutor (Coding, Remote, Indonesia)', 'Job Level': 'Entry Level', 'Company Name': 'Royal Prime Montessori Elementary and Junior School', 'City': 'Bandar Lampung', 'Area': 'Lampung', 'Country': 'Indonesia', 'Skills': ['Problem Solving']}\n",
            "{'Job Name': 'Elementary IT Teacher', 'Job Level': 'Senior', 'Company Name': 'Tsurayya Indonesia', 'City': 'Cilacap', 'Area': 'Central Java', 'Country': 'Indonesia', 'Skills': ['Exploration']}\n",
            "{'Job Name': 'Business Studies & Accounting Teacher', 'Job Level': 'Intermediate', 'Company Name': 'St. Johannes Berchmans', 'City': 'Palembang', 'Area': 'South Sumatra', 'Country': 'Indonesia', 'Skills': ['Disciplinaries']}\n",
            "{'Job Name': 'French tutor', 'Job Level': 'Senior', 'Company Name': 'PT. Infinite Potensi', 'City': 'Denpasar', 'Area': 'Dangin Puri', 'Country': 'Indonesia', 'Skills': ['Tutoring', 'Lesson Planning']}\n",
            "{'Job Name': 'Religion Teacher (Buddhist)', 'Job Level': 'Senior', 'Company Name': 'Tsurayya Indonesia', 'City': 'Semarang', 'Area': 'Central Java', 'Country': 'Indonesia', 'Skills': ['Zoom', 'Mandarin', 'English', 'Communication']}\n",
            "{'Job Name': 'International English Teacher', 'Job Level': 'Intermediate', 'Company Name': 'Lister Education Pte Ltd', 'City': 'Tangerang', 'Area': 'Banten', 'Country': 'Indonesia', 'Skills': ['Tutoring', 'English', 'Coaching']}\n",
            "{'Job Name': 'Vocal Teacher', 'Job Level': 'Senior', 'Company Name': 'Kobi Education', 'City': 'Tangerang', 'Area': 'Banten', 'Country': 'Indonesia', 'Skills': ['Ambitious', 'Coaching']}\n",
            "{'Job Name': 'Tutor / Training ( Client Manager)', 'Job Level': 'Intermediate', 'Company Name': 'Cakap', 'City': 'Palembang', 'Area': 'South Sumatra', 'Country': 'Indonesia', 'Skills': ['Mentoring', 'Team Work', 'Willing to Learn']}\n",
            "{'Job Name': 'Digital Marketing Tutor', 'Job Level': 'Senior', 'Company Name': 'SPK My Little Island School', 'City': 'Depok', 'Area': 'Bogor', 'Country': 'Indonesia', 'Skills': ['English']}\n",
            "{'Job Name': 'International School Private Teacher', 'Job Level': 'Entry Level', 'Company Name': 'Digital Skola', 'City': 'Makassar', 'Area': 'South Sulawesi', 'Country': 'Indonesia', 'Skills': ['English', 'Zoom', 'Lesson Planning', 'Tutoring']}\n",
            "{'Job Name': 'Teacher Assistant', 'Job Level': 'Intermediate', 'Company Name': 'Kodingbean', 'City': 'Denpasar', 'Area': 'Dangin Puri', 'Country': 'Indonesia', 'Skills': ['Willing to Learn', 'Mandarin', 'Adaptable', 'Exploration']}\n",
            "{'Job Name': 'Physical Exercise Teacher', 'Job Level': 'Entry Level', 'Company Name': 'Brain Academy Center', 'City': 'Jakarta', 'Area': 'Java', 'Country': 'Indonesia', 'Skills': ['Exploration', 'Problem Solving']}\n",
            "{'Job Name': 'English Teacher for Kids', 'Job Level': 'Entry Level', 'Company Name': 'PT. Infinite Potensi', 'City': 'Jepara', 'Area': 'Central Java', 'Country': 'Indonesia', 'Skills': ['Adaptable', 'Exploration', 'E-Learning', 'Training Plans']}\n",
            "{'Job Name': 'Education Counselor', 'Job Level': 'Intermediate', 'Company Name': 'Tsurayya Indonesia', 'City': 'Denpasar', 'Area': 'Dangin Puri', 'Country': 'Indonesia', 'Skills': ['Zoom', 'Teaching']}\n",
            "{'Job Name': 'TIK / Computer Teacher', 'Job Level': 'Entry Level', 'Company Name': 'LingoTalk', 'City': 'Malang', 'Area': 'Kota Malang', 'Country': 'Indonesia', 'Skills': ['Mandarin', 'Problem Solving']}\n",
            "{'Job Name': 'Physical Education Teacher', 'Job Level': 'Intermediate', 'Company Name': 'E-cube', 'City': 'Cilacap', 'Area': 'Central Java', 'Country': 'Indonesia', 'Skills': ['Teaching', 'Mandarin', 'Ambitious', 'Communication']}\n",
            "{'Job Name': 'Primary Teacher', 'Job Level': 'Senior', 'Company Name': 'Lister Education Pte Ltd', 'City': 'Sangereng', 'Area': 'Panunggangan Barat', 'Country': 'Indonesia', 'Skills': ['Mentoring', 'E-Learning']}\n",
            "{'Job Name': 'Mathematics Mentor', 'Job Level': 'Intermediate', 'Company Name': 'Brain Academy Center', 'City': 'Cilacap', 'Area': 'Central Java', 'Country': 'Indonesia', 'Skills': ['Mentoring', 'Willing to Learn']}\n",
            "{'Job Name': 'Christian Religion Teacher', 'Job Level': 'Entry Level', 'Company Name': 'LightHouse Academy', 'City': 'Makassar', 'Area': 'South Sulawesi', 'Country': 'Indonesia', 'Skills': ['Tutoring']}\n",
            "{'Job Name': 'Music and Vocal Teacher', 'Job Level': 'Intermediate', 'Company Name': 'CT ARSA FOUNDATION', 'City': 'Palembang', 'Area': 'South Sumatra', 'Country': 'Indonesia', 'Skills': ['Mandarin']}\n",
            "{'Job Name': 'IT Teacher For Kids', 'Job Level': 'Intermediate', 'Company Name': 'Sekolah Citra Kasih', 'City': 'Bogor', 'Area': 'West Java', 'Country': 'Indonesia', 'Skills': ['Communication']}\n",
            "{'Job Name': 'Programming Lecturer', 'Job Level': 'Intermediate', 'Company Name': 'St. Johannes Berchmans', 'City': 'Palembang', 'Area': 'South Sumatra', 'Country': 'Indonesia', 'Skills': ['Disciplinaries', 'Problem Solving']}\n",
            "{'Job Name': 'Japanese and Mandarin Tutor', 'Job Level': 'Intermediate', 'Company Name': 'Pt Inspirasi Mandiri Nusantara', 'City': 'Jakarta', 'Area': 'Java', 'Country': 'Indonesia', 'Skills': ['Coaching', 'Problem Solving', 'Team Work', 'Mentoring']}\n",
            "{'Job Name': 'Chemistry Teacher', 'Job Level': 'Senior', 'Company Name': 'BSI', 'City': 'Sangereng', 'Area': 'Panunggangan Barat', 'Country': 'Indonesia', 'Skills': ['Training Plans']}\n",
            "{'Job Name': 'Social Teacher', 'Job Level': 'Entry Level', 'Company Name': 'Cakap', 'City': 'Sangereng', 'Area': 'Panunggangan Barat', 'Country': 'Indonesia', 'Skills': ['Adaptable', 'Assisting', 'Coaching']}\n",
            "{'Job Name': 'Psychology Lecturer', 'Job Level': 'Entry Level', 'Company Name': 'Kobi Education', 'City': 'Bekasi', 'Area': 'West Java', 'Country': 'Indonesia', 'Skills': ['Problem Solving', 'Ambitious', 'Teaching', 'Mentoring']}\n",
            "{'Job Name': 'Primary Teacher', 'Job Level': 'Senior', 'Company Name': 'CIE Central International Education', 'City': 'Denpasar', 'Area': 'Dangin Puri', 'Country': 'Indonesia', 'Skills': ['Curriculum Development']}\n",
            "{'Job Name': 'Tutor / Training ( Client Manager)', 'Job Level': 'Entry Level', 'Company Name': 'Kodingbean', 'City': 'Cilacap', 'Area': 'Central Java', 'Country': 'Indonesia', 'Skills': ['Mandarin', 'Lesson Planning', 'Willing to Learn']}\n",
            "{'Job Name': 'English Tutor', 'Job Level': 'Intermediate', 'Company Name': 'Schoters', 'City': 'Jakarta', 'Area': 'Java', 'Country': 'Indonesia', 'Skills': ['Curriculum Development']}\n",
            "{'Job Name': 'Master Teacher Social Studies', 'Job Level': 'Senior', 'Company Name': 'Lister Education Pte Ltd', 'City': 'Denpasar', 'Area': 'Dangin Puri', 'Country': 'Indonesia', 'Skills': ['Willing to Learn', 'Exploration']}\n",
            "{'Job Name': 'Christian Religion Teacher', 'Job Level': 'Senior', 'Company Name': 'PT. Koding Next Indonesia', 'City': 'Malang', 'Area': 'Kota Malang', 'Country': 'Indonesia', 'Skills': ['E-Learning', 'Ambitious']}\n",
            "{'Job Name': 'Islamic Religion Teacher', 'Job Level': 'Intermediate', 'Company Name': 'PT. Infinite Potensi', 'City': 'Malang', 'Area': 'Kota Malang', 'Country': 'Indonesia', 'Skills': ['Exploration', 'Training Plans']}\n",
            "{'Job Name': 'Pharmacy Lecturer', 'Job Level': 'Senior', 'Company Name': 'Sekolah Citra Kasih', 'City': 'Cilacap', 'Area': 'Central Java', 'Country': 'Indonesia', 'Skills': ['Lesson Planning', 'Communication', 'Training Plans', 'Team Work']}\n",
            "{'Job Name': 'Sociology Teacher', 'Job Level': 'Intermediate', 'Company Name': 'Sekolah Pelita Bangsa', 'City': 'Depok', 'Area': 'Bogor', 'Country': 'Indonesia', 'Skills': ['Disciplinaries', 'Curriculum Development', 'Lesson Planning']}\n",
            "{'Job Name': 'Teacher Assistant', 'Job Level': 'Intermediate', 'Company Name': 'Kodland', 'City': 'Denpasar', 'Area': 'Dangin Puri', 'Country': 'Indonesia', 'Skills': ['Coaching', 'Curriculum Development', 'Zoom', 'Willing to Learn']}\n",
            "{'Job Name': 'French tutor', 'Job Level': 'Intermediate', 'Company Name': 'EF English First Batam', 'City': 'Palembang', 'Area': 'South Sumatra', 'Country': 'Indonesia', 'Skills': ['Training Plans', 'Problem Solving', 'Disciplinaries']}\n",
            "{'Job Name': 'Physical Exercise Teacher', 'Job Level': 'Entry Level', 'Company Name': 'Yayasan Citra Berkat', 'City': 'Jakarta', 'Area': 'Java', 'Country': 'Indonesia', 'Skills': ['Problem Solving', 'Coaching', 'Adaptable', 'Teaching']}\n",
            "{'Job Name': 'International English Teacher', 'Job Level': 'Intermediate', 'Company Name': 'SPK My Little Island School', 'City': 'Medan', 'Area': 'North Sumatra', 'Country': 'Indonesia', 'Skills': ['Team Work', 'Training Plans']}\n",
            "{'Job Name': 'Psychology Lecturer', 'Job Level': 'Entry Level', 'Company Name': 'Oxbridge International School', 'City': 'Makassar', 'Area': 'South Sulawesi', 'Country': 'Indonesia', 'Skills': ['Mentoring']}\n",
            "{'Job Name': 'Private Tutor', 'Job Level': 'Entry Level', 'Company Name': 'Sekolah Citra Kasih', 'City': 'Malang', 'Area': 'Kota Malang', 'Country': 'Indonesia', 'Skills': ['E-Learning']}\n",
            "{'Job Name': 'Mathematics Tutor', 'Job Level': 'Senior', 'Company Name': 'Morphoo School', 'City': 'Palembang', 'Area': 'South Sumatra', 'Country': 'Indonesia', 'Skills': ['Adaptable', 'E-Learning', 'Lesson Planning', 'Disciplinaries']}\n",
            "{'Job Name': 'Vocal Teacher', 'Job Level': 'Entry Level', 'Company Name': 'The Champion School', 'City': 'Denpasar', 'Area': 'Dangin Puri', 'Country': 'Indonesia', 'Skills': ['Assisting', 'Team Work', 'Zoom']}\n",
            "{'Job Name': 'Assistant Teacher', 'Job Level': 'Intermediate', 'Company Name': 'EF English First Batam', 'City': 'Denpasar', 'Area': 'Dangin Puri', 'Country': 'Indonesia', 'Skills': ['E-Learning', 'Team Work']}\n",
            "{'Job Name': 'Elementary Teacher', 'Job Level': 'Senior', 'Company Name': 'EF English First Batam', 'City': 'Bogor', 'Area': 'West Java', 'Country': 'Indonesia', 'Skills': ['Team Work']}\n",
            "{'Job Name': 'Art Teacher', 'Job Level': 'Intermediate', 'Company Name': 'Morphoo School', 'City': 'Palembang', 'Area': 'South Sumatra', 'Country': 'Indonesia', 'Skills': ['Curriculum Development', 'Problem Solving', 'Exploration', 'Coaching']}\n",
            "{'Job Name': 'IT Teacher For Kids', 'Job Level': 'Senior', 'Company Name': 'One Third Consulting and Abroad', 'City': 'Sumedang', 'Area': 'West Java', 'Country': 'Indonesia', 'Skills': ['Training Plans']}\n",
            "{'Job Name': 'Python Tutor', 'Job Level': 'Entry Level', 'Company Name': 'BSI', 'City': 'Denpasar', 'Area': 'Dangin Puri', 'Country': 'Indonesia', 'Skills': ['Problem Solving']}\n",
            "{'Job Name': 'Part Time Tutor', 'Job Level': 'Entry Level', 'Company Name': 'Sekolah Citra Kasih', 'City': 'Sangereng', 'Area': 'Panunggangan Barat', 'Country': 'Indonesia', 'Skills': ['Willing to Learn', 'Team Work']}\n",
            "{'Job Name': 'History Teacher', 'Job Level': 'Senior', 'Company Name': 'Royal Prime Montessori Elementary and Junior School', 'City': 'Tangerang', 'Area': 'Banten', 'Country': 'Indonesia', 'Skills': ['Problem Solving']}\n",
            "{'Job Name': 'Freelance Business English Tutor [Native Speaker]', 'Job Level': 'Entry Level', 'Company Name': 'Tsurayya Indonesia', 'City': 'Palembang', 'Area': 'South Sumatra', 'Country': 'Indonesia', 'Skills': ['Training Plans', 'Ambitious', 'Mentoring']}\n",
            "{'Job Name': 'Master Teacher Social Studies', 'Job Level': 'Senior', 'Company Name': 'Marriott', 'City': 'Malang', 'Area': 'Kota Malang', 'Country': 'Indonesia', 'Skills': ['Adaptable', 'Training Plans', 'Team Work', 'Mandarin']}\n",
            "{'Job Name': 'Private Tutor', 'Job Level': 'Senior', 'Company Name': 'BrightCHAMPS', 'City': 'Tangerang', 'Area': 'Banten', 'Country': 'Indonesia', 'Skills': ['Zoom']}\n",
            "{'Job Name': 'Chemistry Teacher', 'Job Level': 'Intermediate', 'Company Name': 'Rakids Learning Center', 'City': 'Depok', 'Area': 'Bogor', 'Country': 'Indonesia', 'Skills': ['Mandarin']}\n",
            "{'Job Name': 'Digital Marketing Tutor', 'Job Level': 'Entry Level', 'Company Name': 'SMARTZ.ID', 'City': 'Depok', 'Area': 'Bogor', 'Country': 'Indonesia', 'Skills': ['Teaching', 'Adaptable', 'Mandarin', 'Coaching']}\n",
            "{'Job Name': 'Economics Teacher', 'Job Level': 'Senior', 'Company Name': 'LightHouse Academy', 'City': 'Cilacap', 'Area': 'Central Java', 'Country': 'Indonesia', 'Skills': ['Adaptable']}\n",
            "{'Job Name': 'Preschool/Kindergarten Teacher', 'Job Level': 'Entry Level', 'Company Name': 'The Champion School', 'City': 'Palembang', 'Area': 'South Sumatra', 'Country': 'Indonesia', 'Skills': ['Problem Solving', 'Training Plans', 'Assisting']}\n",
            "{'Job Name': 'Python Tutor', 'Job Level': 'Entry Level', 'Company Name': 'Educourse.id', 'City': 'Makassar', 'Area': 'South Sulawesi', 'Country': 'Indonesia', 'Skills': ['Ambitious', 'Exploration', 'Disciplinaries', 'Assisting']}\n",
            "{'Job Name': 'homeschooling teacher', 'Job Level': 'Entry Level', 'Company Name': 'Digital Skola', 'City': 'Bandar Lampung', 'Area': 'Lampung', 'Country': 'Indonesia', 'Skills': ['Coaching', 'Curriculum Development']}\n",
            "{'Job Name': 'Data Science Tutor', 'Job Level': 'Senior', 'Company Name': 'Guru.mu', 'City': 'Malang', 'Area': 'Kota Malang', 'Country': 'Indonesia', 'Skills': ['E-Learning', 'Tutoring']}\n",
            "{'Job Name': 'Python Tutor', 'Job Level': 'Senior', 'Company Name': 'E-cube', 'City': 'Palembang', 'Area': 'South Sumatra', 'Country': 'Indonesia', 'Skills': ['Team Work']}\n",
            "{'Job Name': 'Biology Tutor', 'Job Level': 'Senior', 'Company Name': 'Oxbridge International School', 'City': 'Malang', 'Area': 'Kota Malang', 'Country': 'Indonesia', 'Skills': ['Willing to Learn']}\n",
            "{'Job Name': 'Digital Marketing Tutor', 'Job Level': 'Senior', 'Company Name': 'PT Trakindo Utama', 'City': 'Semarang', 'Area': 'Central Java', 'Country': 'Indonesia', 'Skills': ['Problem Solving', 'Willing to Learn', 'Lesson Planning']}\n",
            "{'Job Name': 'Freelance Japanese Tutor', 'Job Level': 'Intermediate', 'Company Name': 'Sekolah Pelita Bangsa', 'City': 'Jakarta', 'Area': 'Java', 'Country': 'Indonesia', 'Skills': ['Training Plans', 'Lesson Planning']}\n",
            "{'Job Name': 'Online Tutor: Roblox (Remote)', 'Job Level': 'Intermediate', 'Company Name': 'One Third Consulting and Abroad', 'City': 'Tangerang', 'Area': 'Banten', 'Country': 'Indonesia', 'Skills': ['Adaptable', 'Disciplinaries', 'Mandarin']}\n",
            "{'Job Name': 'school counselor', 'Job Level': 'Entry Level', 'Company Name': 'The Gandhi Memorial Intercontinental School', 'City': 'Bogor', 'Area': 'West Java', 'Country': 'Indonesia', 'Skills': ['Exploration', 'Curriculum Development']}\n",
            "{'Job Name': 'Instructor Trainee', 'Job Level': 'Entry Level', 'Company Name': 'Kobi Education', 'City': 'Bandar Lampung', 'Area': 'Lampung', 'Country': 'Indonesia', 'Skills': ['Tutoring', 'Mandarin']}\n",
            "{'Job Name': 'Student Support Teacher', 'Job Level': 'Intermediate', 'Company Name': 'CIE Central International Education', 'City': 'Jepara', 'Area': 'Central Java', 'Country': 'Indonesia', 'Skills': ['Communication', 'Problem Solving']}\n",
            "{'Job Name': 'Assistant Teacher', 'Job Level': 'Intermediate', 'Company Name': 'The Gandhi Memorial Intercontinental School', 'City': 'Bogor', 'Area': 'West Java', 'Country': 'Indonesia', 'Skills': ['Tutoring', 'Mandarin', 'Teaching', 'Communication']}\n",
            "{'Job Name': 'TIK / Computer Teacher', 'Job Level': 'Senior', 'Company Name': 'LingoTalk', 'City': 'Tangerang', 'Area': 'Banten', 'Country': 'Indonesia', 'Skills': ['Teaching', 'Assisting', 'Problem Solving']}\n",
            "{'Job Name': 'Master Teacher Mathematics', 'Job Level': 'Senior', 'Company Name': 'EF English First Batam', 'City': 'Medan', 'Area': 'North Sumatra', 'Country': 'Indonesia', 'Skills': ['Mentoring', 'Mandarin']}\n",
            "{'Job Name': 'Private Tutor', 'Job Level': 'Intermediate', 'Company Name': 'Widya Edutech', 'City': 'Tangerang', 'Area': 'Banten', 'Country': 'Indonesia', 'Skills': ['Adaptable']}\n",
            "{'Job Name': 'Master Teacher Social Studies', 'Job Level': 'Entry Level', 'Company Name': 'Pt Inspirasi Mandiri Nusantara', 'City': 'Cilacap', 'Area': 'Central Java', 'Country': 'Indonesia', 'Skills': ['Coaching', 'Mandarin', 'Lesson Planning', 'Tutoring']}\n",
            "{'Job Name': 'Psychology Lecturer', 'Job Level': 'Intermediate', 'Company Name': 'Widya Edutech', 'City': 'Sangereng', 'Area': 'Panunggangan Barat', 'Country': 'Indonesia', 'Skills': ['Team Work', 'E-Learning']}\n",
            "{'Job Name': 'Islamic Religion Teacher', 'Job Level': 'Entry Level', 'Company Name': 'Schoters', 'City': 'Bandar Lampung', 'Area': 'Lampung', 'Country': 'Indonesia', 'Skills': ['Ambitious', 'Problem Solving', 'Disciplinaries', 'Coaching']}\n",
            "{'Job Name': 'Tutor / Training ( Client Manager)', 'Job Level': 'Entry Level', 'Company Name': 'PT. Infinite Potensi', 'City': 'Jepara', 'Area': 'Central Java', 'Country': 'Indonesia', 'Skills': ['Exploration']}\n",
            "{'Job Name': 'Homeroom Teacher', 'Job Level': 'Senior', 'Company Name': 'Sekolah Citra Kasih', 'City': 'Bekasi', 'Area': 'West Java', 'Country': 'Indonesia', 'Skills': ['Tutoring', 'Teaching']}\n",
            "{'Job Name': '3D Tutor for CG Fundamentals', 'Job Level': 'Senior', 'Company Name': 'Kobi Education', 'City': 'Denpasar', 'Area': 'Dangin Puri', 'Country': 'Indonesia', 'Skills': ['Tutoring', 'Mentoring', 'Disciplinaries', 'Lesson Planning']}\n",
            "{'Job Name': 'Biology Tutor', 'Job Level': 'Intermediate', 'Company Name': 'PT Trakindo Utama', 'City': 'Tangerang', 'Area': 'Banten', 'Country': 'Indonesia', 'Skills': ['Coaching']}\n",
            "{'Job Name': 'Instructor Trainee', 'Job Level': 'Intermediate', 'Company Name': 'Schoters', 'City': 'Depok', 'Area': 'Bogor', 'Country': 'Indonesia', 'Skills': ['Coaching', 'Zoom']}\n",
            "{'Job Name': 'Education Counselor', 'Job Level': 'Senior', 'Company Name': 'Global Jaya International School', 'City': 'Malang', 'Area': 'Kota Malang', 'Country': 'Indonesia', 'Skills': ['Adaptable', 'Assisting', 'Communication']}\n",
            "{'Job Name': 'Music and Vocal Teacher', 'Job Level': 'Entry Level', 'Company Name': 'Global Jaya International School', 'City': 'Makassar', 'Area': 'South Sulawesi', 'Country': 'Indonesia', 'Skills': ['Communication', 'Tutoring']}\n",
            "{'Job Name': 'Physical Education Teacher', 'Job Level': 'Intermediate', 'Company Name': 'Sekolah Pelita Bangsa', 'City': 'Palembang', 'Area': 'South Sumatra', 'Country': 'Indonesia', 'Skills': ['Tutoring', 'Assisting', 'Team Work', 'Lesson Planning']}\n",
            "{'Job Name': 'Digital Business Lecturer', 'Job Level': 'Entry Level', 'Company Name': 'Educourse.id', 'City': 'Makassar', 'Area': 'South Sulawesi', 'Country': 'Indonesia', 'Skills': ['Team Work', 'Disciplinaries', 'Tutoring']}\n",
            "{'Job Name': 'French tutor', 'Job Level': 'Intermediate', 'Company Name': 'Royal Prime Montessori Elementary and Junior School', 'City': 'Palembang', 'Area': 'South Sumatra', 'Country': 'Indonesia', 'Skills': ['Mandarin']}\n",
            "{'Job Name': 'Master Teacher Mathematics', 'Job Level': 'Intermediate', 'Company Name': 'Kodingbean', 'City': 'Tangerang', 'Area': 'Banten', 'Country': 'Indonesia', 'Skills': ['Coaching', 'Training Plans', 'Assisting', 'English']}\n",
            "{'Job Name': 'Korean Teacher', 'Job Level': 'Intermediate', 'Company Name': 'Oxbridge International School', 'City': 'Tangerang', 'Area': 'Banten', 'Country': 'Indonesia', 'Skills': ['Disciplinaries']}\n",
            "{'Job Name': 'Training', 'Job Level': 'Entry Level', 'Company Name': 'Ruangguru', 'City': 'Malang', 'Area': 'Kota Malang', 'Country': 'Indonesia', 'Skills': ['Mentoring', 'English']}\n",
            "{'Job Name': 'Education Counselor', 'Job Level': 'Entry Level', 'Company Name': 'Helpmate course', 'City': 'Bandung', 'Area': 'West Java', 'Country': 'Indonesia', 'Skills': ['Mandarin', 'Zoom', 'E-Learning', 'Teaching']}\n",
            "{'Job Name': 'Chemistry Teacher', 'Job Level': 'Intermediate', 'Company Name': 'PT Trakindo Utama', 'City': 'Bandar Lampung', 'Area': 'Lampung', 'Country': 'Indonesia', 'Skills': ['Coaching', 'Team Work', 'Problem Solving']}\n",
            "{'Job Name': 'IT Teacher For Kids', 'Job Level': 'Entry Level', 'Company Name': 'Guardian Jobs', 'City': 'Palembang', 'Area': 'South Sumatra', 'Country': 'Indonesia', 'Skills': ['English', 'Exploration', 'Problem Solving', 'Communication']}\n",
            "{'Job Name': 'Doctor Professional Education Lecturer', 'Job Level': 'Intermediate', 'Company Name': 'Newton Education Group', 'City': 'Bekasi', 'Area': 'West Java', 'Country': 'Indonesia', 'Skills': ['English', 'Team Work', 'Teaching', 'Disciplinaries']}\n",
            "{'Job Name': 'IT Teacher For Kids', 'Job Level': 'Entry Level', 'Company Name': 'Royal Prime Montessori Elementary and Junior School', 'City': 'Tangerang', 'Area': 'Banten', 'Country': 'Indonesia', 'Skills': ['Tutoring', 'Problem Solving']}\n",
            "{'Job Name': 'Japanese and Mandarin Tutor', 'Job Level': 'Intermediate', 'Company Name': 'Lingua Course', 'City': 'Jakarta', 'Area': 'Java', 'Country': 'Indonesia', 'Skills': ['Training Plans', 'Mandarin', 'Curriculum Development', 'Team Work']}\n",
            "{'Job Name': 'Online Tutor: Roblox (Remote)', 'Job Level': 'Senior', 'Company Name': 'Digital Skola', 'City': 'Jepara', 'Area': 'Central Java', 'Country': 'Indonesia', 'Skills': ['Teaching']}\n",
            "{'Job Name': 'Vocal Teacher', 'Job Level': 'Entry Level', 'Company Name': 'The Gandhi Memorial Intercontinental School', 'City': 'Jakarta', 'Area': 'Java', 'Country': 'Indonesia', 'Skills': ['English', 'Problem Solving', 'Mentoring', 'Adaptable']}\n",
            "{'Job Name': 'Biology Tutor', 'Job Level': 'Entry Level', 'Company Name': 'BSI', 'City': 'Surabaya', 'Area': 'East Java', 'Country': 'Indonesia', 'Skills': ['Assisting', 'Curriculum Development']}\n",
            "{'Job Name': 'International English Teacher', 'Job Level': 'Senior', 'Company Name': 'The Gandhi Memorial Intercontinental School', 'City': 'Malang', 'Area': 'Kota Malang', 'Country': 'Indonesia', 'Skills': ['Disciplinaries', 'E-Learning']}\n",
            "{'Job Name': 'Chemistry Teacher', 'Job Level': 'Senior', 'Company Name': 'LancarBahasa.ID', 'City': 'Semarang', 'Area': 'Central Java', 'Country': 'Indonesia', 'Skills': ['Disciplinaries', 'Coaching']}\n",
            "{'Job Name': '3D Tutor for CG Fundamentals', 'Job Level': 'Entry Level', 'Company Name': 'Newton Education Group', 'City': 'Bandar Lampung', 'Area': 'Lampung', 'Country': 'Indonesia', 'Skills': ['Tutoring', 'Exploration', 'Teaching', 'Zoom']}\n",
            "{'Job Name': 'Elementary IT Teacher', 'Job Level': 'Entry Level', 'Company Name': 'E-cube', 'City': 'Medan', 'Area': 'North Sumatra', 'Country': 'Indonesia', 'Skills': ['Lesson Planning', 'Curriculum Development']}\n",
            "{'Job Name': 'Online Tutor: Roblox (Remote)', 'Job Level': 'Intermediate', 'Company Name': 'Kobi Education', 'City': 'Makassar', 'Area': 'South Sulawesi', 'Country': 'Indonesia', 'Skills': ['Exploration', 'Coaching', 'Willing to Learn', 'Training Plans']}\n",
            "{'Job Name': 'Data Science Tutor', 'Job Level': 'Senior', 'Company Name': 'Ruangguru', 'City': 'Palembang', 'Area': 'South Sumatra', 'Country': 'Indonesia', 'Skills': ['Coaching', 'Adaptable']}\n",
            "{'Job Name': 'Tutor Baby Class', 'Job Level': 'Intermediate', 'Company Name': 'Kobi Education', 'City': 'Palembang', 'Area': 'South Sumatra', 'Country': 'Indonesia', 'Skills': ['English', 'Coaching', 'Willing to Learn', 'Team Work']}\n",
            "{'Job Name': 'Homeroom Teacher', 'Job Level': 'Senior', 'Company Name': 'St. Johannes Berchmans', 'City': 'Jepara', 'Area': 'Central Java', 'Country': 'Indonesia', 'Skills': ['Exploration']}\n",
            "{'Job Name': 'Teacher', 'Job Level': 'Entry Level', 'Company Name': 'The Gandhi Memorial Intercontinental School', 'City': 'Bekasi', 'Area': 'West Java', 'Country': 'Indonesia', 'Skills': ['Coaching', 'Exploration', 'Willing to Learn', 'Communication']}\n",
            "{'Job Name': 'Sociology Teacher', 'Job Level': 'Intermediate', 'Company Name': 'BrightCHAMPS', 'City': 'Sumedang', 'Area': 'West Java', 'Country': 'Indonesia', 'Skills': ['Disciplinaries', 'Teaching', 'Coaching']}\n",
            "{'Job Name': 'Instructor Trainee', 'Job Level': 'Senior', 'Company Name': 'BSI', 'City': 'Jakarta', 'Area': 'Java', 'Country': 'Indonesia', 'Skills': ['Mentoring', 'Coaching', 'Team Work', 'Curriculum Development']}\n",
            "{'Job Name': 'Visual Arts Teacher', 'Job Level': 'Entry Level', 'Company Name': 'Guardian Jobs', 'City': 'Makassar', 'Area': 'South Sulawesi', 'Country': 'Indonesia', 'Skills': ['Tutoring']}\n",
            "{'Job Name': 'Tutor / Training ( Client Manager)', 'Job Level': 'Intermediate', 'Company Name': 'One Third Consulting and Abroad', 'City': 'Denpasar', 'Area': 'Dangin Puri', 'Country': 'Indonesia', 'Skills': ['Mentoring', 'English', 'Team Work', 'Coaching']}\n",
            "{'Job Name': 'Robotics Teacher/Tutor', 'Job Level': 'Entry Level', 'Company Name': 'Global Jaya International School', 'City': 'Malang', 'Area': 'Kota Malang', 'Country': 'Indonesia', 'Skills': ['Mentoring']}\n",
            "{'Job Name': 'Art Teacher', 'Job Level': 'Senior', 'Company Name': 'Pt Inspirasi Mandiri Nusantara', 'City': 'Cilacap', 'Area': 'Central Java', 'Country': 'Indonesia', 'Skills': ['Ambitious']}\n",
            "{'Job Name': 'Research Assistant - Chinese Speaker', 'Job Level': 'Senior', 'Company Name': 'Guardian Jobs', 'City': 'Medan', 'Area': 'North Sumatra', 'Country': 'Indonesia', 'Skills': ['Mandarin', 'Assisting', 'Adaptable']}\n",
            "{'Job Name': 'Python Tutor', 'Job Level': 'Intermediate', 'Company Name': 'SPK My Little Island School', 'City': 'Denpasar', 'Area': 'Dangin Puri', 'Country': 'Indonesia', 'Skills': ['English', 'Willing to Learn', 'Disciplinaries']}\n",
            "{'Job Name': 'Social Teacher', 'Job Level': 'Senior', 'Company Name': 'Lingua Course', 'City': 'Medan', 'Area': 'North Sumatra', 'Country': 'Indonesia', 'Skills': ['Adaptable', 'Mentoring', 'Lesson Planning', 'English']}\n",
            "{'Job Name': 'Vocal Teacher', 'Job Level': 'Entry Level', 'Company Name': 'Concentrix', 'City': 'Denpasar', 'Area': 'Dangin Puri', 'Country': 'Indonesia', 'Skills': ['Adaptable', 'Assisting', 'Exploration', 'Ambitious']}\n",
            "{'Job Name': 'Chemistry Teacher', 'Job Level': 'Senior', 'Company Name': 'Global Jaya International School', 'City': 'Semarang', 'Area': 'Central Java', 'Country': 'Indonesia', 'Skills': ['Coaching', 'Mentoring', 'Training Plans', 'Exploration']}\n",
            "{'Job Name': 'Social Teacher', 'Job Level': 'Senior', 'Company Name': 'Guru.mu', 'City': 'Medan', 'Area': 'North Sumatra', 'Country': 'Indonesia', 'Skills': ['Ambitious', 'Tutoring', 'English']}\n",
            "{'Job Name': 'International English Teacher', 'Job Level': 'Entry Level', 'Company Name': 'Sekolah Citra Kasih', 'City': 'Malang', 'Area': 'Kota Malang', 'Country': 'Indonesia', 'Skills': ['Mandarin', 'Problem Solving', 'Assisting', 'Communication']}\n",
            "{'Job Name': 'Pharmacy Lecturer', 'Job Level': 'Senior', 'Company Name': 'Tsurayya Indonesia', 'City': 'Palembang', 'Area': 'South Sumatra', 'Country': 'Indonesia', 'Skills': ['Lesson Planning', 'Adaptable', 'Tutoring']}\n",
            "{'Job Name': 'Digital Marketing Tutor', 'Job Level': 'Intermediate', 'Company Name': 'Practicum USA', 'City': 'Palembang', 'Area': 'South Sumatra', 'Country': 'Indonesia', 'Skills': ['Mandarin']}\n",
            "{'Job Name': 'Physical Education Teacher', 'Job Level': 'Intermediate', 'Company Name': 'SPK My Little Island School', 'City': 'Sumedang', 'Area': 'West Java', 'Country': 'Indonesia', 'Skills': ['Zoom', 'Mentoring', 'Ambitious']}\n",
            "{'Job Name': 'Social Teacher', 'Job Level': 'Senior', 'Company Name': 'The Champion School', 'City': 'Medan', 'Area': 'North Sumatra', 'Country': 'Indonesia', 'Skills': ['Problem Solving', 'Willing to Learn', 'Ambitious']}\n",
            "{'Job Name': 'Psychology Lecturer', 'Job Level': 'Senior', 'Company Name': 'E-cube', 'City': 'Tangerang', 'Area': 'Banten', 'Country': 'Indonesia', 'Skills': ['Disciplinaries', 'Adaptable', 'Zoom', 'Lesson Planning']}\n",
            "{'Job Name': 'Social Teacher', 'Job Level': 'Entry Level', 'Company Name': 'LingoTalk', 'City': 'Tangerang', 'Area': 'Banten', 'Country': 'Indonesia', 'Skills': ['Tutoring', 'Disciplinaries', 'Problem Solving', 'Training Plans']}\n",
            "{'Job Name': 'Primary English Teacher', 'Job Level': 'Entry Level', 'Company Name': 'Lingua Course', 'City': 'Medan', 'Area': 'North Sumatra', 'Country': 'Indonesia', 'Skills': ['Teaching']}\n"
          ]
        }
      ]
    },
    {
      "cell_type": "markdown",
      "source": [
        "##Cleansing\n",
        "  "
      ],
      "metadata": {
        "id": "5bdymqkrNTV4"
      }
    },
    {
      "cell_type": "code",
      "source": [
        "normal = 7\n",
        "anomaly_index = []\n",
        "for i in range(len(dummy_data)):\n",
        "  if(len(dummy_data[i]) != 7):\n",
        "    anomaly_index.append(i) # append index of anomaly data"
      ],
      "metadata": {
        "id": "twvJ5x2ALLEz"
      },
      "execution_count": 11,
      "outputs": []
    },
    {
      "cell_type": "code",
      "source": [
        "print(anomaly_index)"
      ],
      "metadata": {
        "colab": {
          "base_uri": "https://localhost:8080/"
        },
        "id": "tqLCB1pRLQTu",
        "outputId": "278ee337-9e35-4824-8004-efe63972b762"
      },
      "execution_count": 12,
      "outputs": [
        {
          "output_type": "stream",
          "name": "stdout",
          "text": [
            "[]\n"
          ]
        }
      ]
    },
    {
      "cell_type": "code",
      "source": [
        "print(dummy_data[0])\n",
        "for aneh in anomaly_index:\n",
        "  print(aneh)\n",
        "  print(\"panjang data aneh ke:\", aneh, \" adalah \", len(dummy_data[aneh]))\n",
        "  print(dummy_data[aneh])"
      ],
      "metadata": {
        "colab": {
          "base_uri": "https://localhost:8080/"
        },
        "id": "JOBHZkxlLaPY",
        "outputId": "f130bc92-af15-41d3-8f50-ffb0f8805bc1"
      },
      "execution_count": 13,
      "outputs": [
        {
          "output_type": "stream",
          "name": "stdout",
          "text": [
            "{'Job Name': 'Teacher Assistant', 'Job Level': 'Senior', 'Company Name': 'The Ritz-Carlton Hotel Company, L.L.C.', 'City': 'Denpasar', 'Area': 'Dangin Puri', 'Country': 'Indonesia', 'Skills': ['Assisting', 'Ambitious', 'Problem Solving', 'Teaching']}\n"
          ]
        }
      ]
    },
    {
      "cell_type": "code",
      "source": [
        "from google.colab import drive\n",
        "drive.mount('/content/drive')"
      ],
      "metadata": {
        "colab": {
          "base_uri": "https://localhost:8080/"
        },
        "id": "P4CrbyOzLxvb",
        "outputId": "02732061-209c-4543-c05f-a21a0034e93d"
      },
      "execution_count": 14,
      "outputs": [
        {
          "output_type": "stream",
          "name": "stdout",
          "text": [
            "Mounted at /content/drive\n"
          ]
        }
      ]
    },
    {
      "cell_type": "code",
      "source": [
        "data_path = '/content/drive/Shareddrives/C23-PR500/' "
      ],
      "metadata": {
        "id": "oo117d9uL6sf"
      },
      "execution_count": 15,
      "outputs": []
    },
    {
      "cell_type": "code",
      "source": [
        "def cleaning_delete_function():\n",
        "    data_cleaned = []\n",
        "    print(\"Cleaning data dengan menghapus data yang jelek\")\n",
        "    print(\"panjang data_cleaned sebelum dibersihkan: \", len(dummy_data))\n",
        "\n",
        "    for index in range(len(dummy_data)):\n",
        "      if index not in anomaly_index:\n",
        "        data_cleaned.append(dummy_data[index])\n",
        "\n",
        "    print(\"panjang data_cleaned setelah dibersihkan: \", len(data_cleaned))\n",
        "    return data_cleaned"
      ],
      "metadata": {
        "id": "4oJC6zhnKv0V"
      },
      "execution_count": 16,
      "outputs": []
    },
    {
      "cell_type": "code",
      "source": [
        "cleaned_csv_path_delete = data_path + 'cleaned_delete_dummyjobs.csv'  # Replace with the desired file path\n",
        "\n",
        "data_cleaned_delete = cleaning_delete_function()\n",
        "with open(cleaned_csv_path_delete, 'w', newline='') as file:\n",
        "    csv_writer = csv.writer(file)\n",
        "    csv_writer.writerows(data_cleaned_delete)\n",
        "\n",
        "print(f\"CSV file '{cleaned_csv_path_delete}' created successfully.\")"
      ],
      "metadata": {
        "colab": {
          "base_uri": "https://localhost:8080/"
        },
        "id": "lv0Z4rHjK8Yd",
        "outputId": "7bde3f76-2f03-468f-fab4-d210ed8a4794"
      },
      "execution_count": 19,
      "outputs": [
        {
          "output_type": "stream",
          "name": "stdout",
          "text": [
            "Cleaning data dengan menghapus data yang jelek\n",
            "panjang data_cleaned sebelum dibersihkan:  300\n",
            "panjang data_cleaned setelah dibersihkan:  300\n",
            "CSV file '/content/drive/Shareddrives/C23-PR500/cleaned_delete_dummyjobs.csv' created successfully.\n"
          ]
        }
      ]
    },
    {
      "cell_type": "code",
      "source": [
        "is_delete = False"
      ],
      "metadata": {
        "id": "k1cpVCnUMTAZ"
      },
      "execution_count": 20,
      "outputs": []
    },
    {
      "cell_type": "markdown",
      "source": [
        "##Save to CSV"
      ],
      "metadata": {
        "id": "iiFwGT1JSi9o"
      }
    },
    {
      "cell_type": "code",
      "source": [
        "def save_to_csv(data, output_file):\n",
        "    fieldnames = data[0].keys()\n",
        "    with open(output_file, 'w', newline='') as file:\n",
        "        writer = csv.DictWriter(file, fieldnames=fieldnames)\n",
        "        writer.writeheader()\n",
        "        writer.writerows(data)\n",
        "    print(f\"Data telah disimpan dalam file {output_file}\")"
      ],
      "metadata": {
        "id": "cNjrAiD9NDI8"
      },
      "execution_count": 34,
      "outputs": []
    },
    {
      "cell_type": "code",
      "source": [
        "output_file = 'dummy_jobs.csv'\n",
        "save_to_csv(dummy_data, output_file)"
      ],
      "metadata": {
        "colab": {
          "base_uri": "https://localhost:8080/"
        },
        "id": "DOD4U0LONetk",
        "outputId": "851a3ff6-f0b9-4e79-f656-438d952b9bab"
      },
      "execution_count": 35,
      "outputs": [
        {
          "output_type": "stream",
          "name": "stdout",
          "text": [
            "Data telah disimpan dalam file dummy_jobs.csv\n"
          ]
        }
      ]
    },
    {
      "cell_type": "code",
      "source": [],
      "metadata": {
        "id": "WIDyL2LXN8Tp"
      },
      "execution_count": null,
      "outputs": []
    }
  ]
}